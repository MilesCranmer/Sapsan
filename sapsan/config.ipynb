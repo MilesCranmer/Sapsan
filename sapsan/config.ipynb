{
 "cells": [
  {
   "cell_type": "code",
   "execution_count": 1,
   "metadata": {
    "scrolled": true
   },
   "outputs": [
    {
     "name": "stdout",
     "output_type": "stream",
     "text": [
      "Running parameters:  {'path': '/raid1/JHTDB/mhd/max_1024/mhd128_t@.4/fm30/', 'dataset': 'mhd', 'ttrain': [0], 'axis': 3, 'dim': 64, 'max_dim': 128, 'cube_size': 64, 'batch_size': 1, 'train_fraction': 0.5, 'dt': 0.0025, 'method': 'cnn', 'parameters': ['u_dim128_fm30', 'b_dim128_fm30', 'a_dim128_fm30', 'du0_dim128_fm30', 'du1_dim128_fm30', 'du2_dim128_fm30', 'db0_dim128_fm30', 'db1_dim128_fm30', 'db2_dim128_fm30', 'da0_dim128_fm30', 'da1_dim128_fm30', 'da2_dim128_fm30'], 'target': 'tn_dim128_fm30', 'targetComp': 2}\n",
      "Features to use:  ['u_dim128_fm30', 'b_dim128_fm30', 'a_dim128_fm30', 'du0_dim128_fm30', 'du1_dim128_fm30', 'du2_dim128_fm30', 'db0_dim128_fm30', 'db1_dim128_fm30', 'db2_dim128_fm30', 'da0_dim128_fm30', 'da1_dim128_fm30', 'da2_dim128_fm30']\n",
      "<class 'list'> <class 'NoneType'>\n",
      "[0]\n",
      "0\n",
      "0.0025\n",
      "Importing file: /raid1/JHTDB/mhd/max_1024/mhd128_t0.0000/fm30/u_dim128_fm30.h5\n",
      "inh5 imported\n",
      "HDF5 file contains the following: <KeysViewHDF5 ['u00000']>\n",
      "Importing the dataset:  u00000\n",
      "(128, 128, 128, 3)\n",
      "(3, 64, 64, 64) 64\n",
      "64 3\n",
      "SHAPES (1, 262144) (3, 262144)\n",
      "time spent for filtering and reducing 0.8097712993621826\n",
      "[0]\n",
      "0\n",
      "0.0025\n",
      "Importing file: /raid1/JHTDB/mhd/max_1024/mhd128_t0.0000/fm30/b_dim128_fm30.h5\n",
      "inh5 imported\n",
      "HDF5 file contains the following: <KeysViewHDF5 ['b00000']>\n",
      "Importing the dataset:  b00000\n",
      "(128, 128, 128, 3)\n",
      "(3, 64, 64, 64) 64\n",
      "time spent for filtering and reducing 0.7649435997009277\n",
      "[0]\n",
      "0\n",
      "0.0025\n",
      "Importing file: /raid1/JHTDB/mhd/max_1024/mhd128_t0.0000/fm30/a_dim128_fm30.h5\n",
      "inh5 imported\n",
      "HDF5 file contains the following: <KeysViewHDF5 ['a00000']>\n",
      "Importing the dataset:  a00000\n",
      "(128, 128, 128, 3)\n",
      "(3, 64, 64, 64) 64\n",
      "time spent for filtering and reducing 0.764796257019043\n",
      "Will filter:  du0_dim128_fm30\n",
      "[0]\n",
      "0\n",
      "0.0025\n",
      "Importing file: /raid1/JHTDB/mhd/max_1024/mhd128_t0.0000/fm30/du0_dim128_fm30.h5\n",
      "inh5 imported\n",
      "HDF5 file contains the following: <KeysViewHDF5 ['du000000']>\n",
      "Importing the dataset:  du000000\n",
      "(128, 128, 128, 3)\n",
      "(3, 64, 64, 64) 64\n",
      "time spent for filtering and reducing 0.8816120624542236\n",
      "Will filter:  du1_dim128_fm30\n",
      "[0]\n",
      "0\n",
      "0.0025\n",
      "Importing file: /raid1/JHTDB/mhd/max_1024/mhd128_t0.0000/fm30/du1_dim128_fm30.h5\n",
      "inh5 imported\n",
      "HDF5 file contains the following: <KeysViewHDF5 ['du100000']>\n",
      "Importing the dataset:  du100000\n",
      "(128, 128, 128, 3)\n",
      "(3, 64, 64, 64) 64\n",
      "time spent for filtering and reducing 0.7746305465698242\n",
      "Will filter:  du2_dim128_fm30\n",
      "[0]\n",
      "0\n",
      "0.0025\n",
      "Importing file: /raid1/JHTDB/mhd/max_1024/mhd128_t0.0000/fm30/du2_dim128_fm30.h5\n",
      "inh5 imported\n",
      "HDF5 file contains the following: <KeysViewHDF5 ['du200000']>\n",
      "Importing the dataset:  du200000\n",
      "(128, 128, 128, 3)\n",
      "(3, 64, 64, 64) 64\n",
      "time spent for filtering and reducing 0.7705068588256836\n",
      "Will filter:  db0_dim128_fm30\n",
      "[0]\n",
      "0\n",
      "0.0025\n",
      "Importing file: /raid1/JHTDB/mhd/max_1024/mhd128_t0.0000/fm30/db0_dim128_fm30.h5\n",
      "inh5 imported\n",
      "HDF5 file contains the following: <KeysViewHDF5 ['db000000']>\n",
      "Importing the dataset:  db000000\n",
      "(128, 128, 128, 3)\n",
      "(3, 64, 64, 64) 64\n",
      "time spent for filtering and reducing 0.7670605182647705\n",
      "Will filter:  db1_dim128_fm30\n",
      "[0]\n",
      "0\n",
      "0.0025\n",
      "Importing file: /raid1/JHTDB/mhd/max_1024/mhd128_t0.0000/fm30/db1_dim128_fm30.h5\n",
      "inh5 imported\n",
      "HDF5 file contains the following: <KeysViewHDF5 ['db100000']>\n",
      "Importing the dataset:  db100000\n",
      "(128, 128, 128, 3)\n",
      "(3, 64, 64, 64) 64\n",
      "time spent for filtering and reducing 0.7828884124755859\n",
      "Will filter:  db2_dim128_fm30\n",
      "[0]\n",
      "0\n",
      "0.0025\n",
      "Importing file: /raid1/JHTDB/mhd/max_1024/mhd128_t0.0000/fm30/db2_dim128_fm30.h5\n",
      "inh5 imported\n",
      "HDF5 file contains the following: <KeysViewHDF5 ['db200000']>\n",
      "Importing the dataset:  db200000\n",
      "(128, 128, 128, 3)\n",
      "(3, 64, 64, 64) 64\n",
      "time spent for filtering and reducing 0.8480312824249268\n",
      "Will filter:  da0_dim128_fm30\n",
      "[0]\n",
      "0\n",
      "0.0025\n",
      "Importing file: /raid1/JHTDB/mhd/max_1024/mhd128_t0.0000/fm30/da0_dim128_fm30.h5\n",
      "inh5 imported\n",
      "HDF5 file contains the following: <KeysViewHDF5 ['da000000']>\n",
      "Importing the dataset:  da000000\n",
      "(128, 128, 128, 3)\n",
      "(3, 64, 64, 64) 64\n",
      "time spent for filtering and reducing 0.7892348766326904\n",
      "Will filter:  da1_dim128_fm30\n",
      "[0]\n",
      "0\n",
      "0.0025\n",
      "Importing file: /raid1/JHTDB/mhd/max_1024/mhd128_t0.0000/fm30/da1_dim128_fm30.h5\n",
      "inh5 imported\n",
      "HDF5 file contains the following: <KeysViewHDF5 ['da100000']>\n",
      "Importing the dataset:  da100000\n",
      "(128, 128, 128, 3)\n",
      "(3, 64, 64, 64) 64\n",
      "time spent for filtering and reducing 0.7793753147125244\n",
      "Will filter:  da2_dim128_fm30\n",
      "[0]\n",
      "0\n",
      "0.0025\n",
      "Importing file: /raid1/JHTDB/mhd/max_1024/mhd128_t0.0000/fm30/da2_dim128_fm30.h5\n",
      "inh5 imported\n",
      "HDF5 file contains the following: <KeysViewHDF5 ['da200000']>\n",
      "Importing the dataset:  da200000\n",
      "(128, 128, 128, 3)\n",
      "(3, 64, 64, 64) 64\n",
      "time spent for filtering and reducing 0.7801713943481445\n",
      "Size_Vals 36\n",
      "Features to use:  tn_dim128_fm30\n",
      "<class 'str'> <class 'NoneType'>\n",
      "[0]\n",
      "0\n",
      "0.0025\n",
      "Importing file: /raid1/JHTDB/mhd/max_1024/mhd128_t0.0000/fm30/tn_dim128_fm30.h5\n",
      "inh5 imported\n",
      "HDF5 file contains the following: <KeysViewHDF5 ['tn00000']>\n",
      "Importing the dataset:  tn00000\n",
      "(128, 128, 128, 3)\n",
      "(3, 64, 64, 64) 64\n",
      "64 3\n",
      "SHAPES (1, 262144) (3, 262144)\n",
      "time spent for filtering and reducing 0.7833116054534912\n",
      "Size_Vals 3\n",
      "Imported train values shape:  (262144, 36)\n",
      "Imported target values shape:  (262144, 3)\n",
      "SHAPES (64, 64, 64, 36) (64, 64, 64, 1)\n",
      "Shapes of train tensors torch.Size([1, 36, 32, 64, 64]) torch.Size([1, 131072])\n"
     ]
    },
    {
     "name": "stderr",
     "output_type": "stream",
     "text": [
      "/home/pkarpov/.conda/envs/torch/lib/python3.7/site-packages/skimage/util/shape.py:93: RuntimeWarning:\n",
      "\n",
      "Cannot provide views on a non-contiguous input array without copying.\n",
      "\n"
     ]
    },
    {
     "name": "stdout",
     "output_type": "stream",
     "text": [
      "Shapes of valid tensors torch.Size([1, 36, 32, 64, 64]) torch.Size([1, 131072])\n"
     ]
    },
    {
     "data": {
      "application/javascript": [
       "IPython.notebook.save_checkpoint();"
      ],
      "text/plain": [
       "<IPython.core.display.Javascript object>"
      ]
     },
     "metadata": {},
     "output_type": "display_data"
    },
    {
     "data": {
      "application/javascript": [
       "IPython.notebook.save_checkpoint();"
      ],
      "text/plain": [
       "<IPython.core.display.Javascript object>"
      ]
     },
     "metadata": {},
     "output_type": "display_data"
    },
    {
     "data": {
      "application/javascript": [
       "IPython.notebook.save_checkpoint();"
      ],
      "text/plain": [
       "<IPython.core.display.Javascript object>"
      ]
     },
     "metadata": {},
     "output_type": "display_data"
    },
    {
     "data": {
      "application/javascript": [
       "IPython.notebook.save_checkpoint();"
      ],
      "text/plain": [
       "<IPython.core.display.Javascript object>"
      ]
     },
     "metadata": {},
     "output_type": "display_data"
    },
    {
     "data": {
      "application/javascript": [
       "IPython.notebook.save_checkpoint();"
      ],
      "text/plain": [
       "<IPython.core.display.Javascript object>"
      ]
     },
     "metadata": {},
     "output_type": "display_data"
    },
    {
     "data": {
      "application/javascript": [
       "IPython.notebook.save_checkpoint();"
      ],
      "text/plain": [
       "<IPython.core.display.Javascript object>"
      ]
     },
     "metadata": {},
     "output_type": "display_data"
    },
    {
     "data": {
      "application/javascript": [
       "IPython.notebook.save_checkpoint();"
      ],
      "text/plain": [
       "<IPython.core.display.Javascript object>"
      ]
     },
     "metadata": {},
     "output_type": "display_data"
    },
    {
     "name": "stdout",
     "output_type": "stream",
     "text": [
      "[2020-01-30 00:03:41,433] \n",
      "0/100 * Epoch 0 (train): _base/lr=0.0010 | _base/momentum=0.9000 | _timers/_fps=3.6542 | _timers/batch_time=0.2737 | _timers/data_time=0.1516 | _timers/model_time=0.1218 | loss=0.0027\n",
      "0/100 * Epoch 0 (valid): _base/lr=0.0010 | _base/momentum=0.9000 | _timers/_fps=3.0959 | _timers/batch_time=0.3230 | _timers/data_time=0.2484 | _timers/model_time=0.0743 | loss=0.0018\n",
      "[2020-01-30 00:03:48,891] \n",
      "1/100 * Epoch 1 (train): _base/lr=0.0010 | _base/momentum=0.9000 | _timers/_fps=2.2804 | _timers/batch_time=0.4385 | _timers/data_time=0.2374 | _timers/model_time=0.2009 | loss=0.0017\n",
      "1/100 * Epoch 1 (valid): _base/lr=0.0010 | _base/momentum=0.9000 | _timers/_fps=2.4458 | _timers/batch_time=0.4089 | _timers/data_time=0.2177 | _timers/model_time=0.1909 | loss=0.0015\n",
      "[2020-01-30 00:03:57,064] \n",
      "2/100 * Epoch 2 (train): _base/lr=0.0010 | _base/momentum=0.9000 | _timers/_fps=2.3672 | _timers/batch_time=0.4224 | _timers/data_time=0.2218 | _timers/model_time=0.2003 | loss=0.0014\n",
      "2/100 * Epoch 2 (valid): _base/lr=0.0010 | _base/momentum=0.9000 | _timers/_fps=2.3037 | _timers/batch_time=0.4341 | _timers/data_time=0.2338 | _timers/model_time=0.2000 | loss=0.0013\n",
      "[2020-01-30 00:04:05,277] \n",
      "3/100 * Epoch 3 (train): _base/lr=0.0010 | _base/momentum=0.9000 | _timers/_fps=2.2648 | _timers/batch_time=0.4415 | _timers/data_time=0.2581 | _timers/model_time=0.1832 | loss=0.0012\n",
      "3/100 * Epoch 3 (valid): _base/lr=0.0010 | _base/momentum=0.9000 | _timers/_fps=2.5517 | _timers/batch_time=0.3919 | _timers/data_time=0.2554 | _timers/model_time=0.1362 | loss=0.0012\n",
      "[2020-01-30 00:04:12,520] \n",
      "4/100 * Epoch 4 (train): _base/lr=0.0010 | _base/momentum=0.9000 | _timers/_fps=2.3911 | _timers/batch_time=0.4182 | _timers/data_time=0.2427 | _timers/model_time=0.1753 | loss=0.0010\n",
      "4/100 * Epoch 4 (valid): _base/lr=0.0010 | _base/momentum=0.9000 | _timers/_fps=2.7659 | _timers/batch_time=0.3615 | _timers/data_time=0.2447 | _timers/model_time=0.1166 | loss=0.0010\n",
      "[2020-01-30 00:04:20,214] \n",
      "5/100 * Epoch 5 (train): _base/lr=0.0010 | _base/momentum=0.9000 | _timers/_fps=2.7163 | _timers/batch_time=0.3681 | _timers/data_time=0.2480 | _timers/model_time=0.1198 | loss=0.0008\n",
      "5/100 * Epoch 5 (valid): _base/lr=0.0010 | _base/momentum=0.9000 | _timers/_fps=2.6914 | _timers/batch_time=0.3716 | _timers/data_time=0.2445 | _timers/model_time=0.1268 | loss=0.0010\n",
      "[2020-01-30 00:04:28,290] \n",
      "6/100 * Epoch 6 (train): _base/lr=0.0010 | _base/momentum=0.9000 | _timers/_fps=2.7427 | _timers/batch_time=0.3646 | _timers/data_time=0.2457 | _timers/model_time=0.1187 | loss=0.0006\n",
      "6/100 * Epoch 6 (valid): _base/lr=0.0010 | _base/momentum=0.9000 | _timers/_fps=2.7433 | _timers/batch_time=0.3645 | _timers/data_time=0.2480 | _timers/model_time=0.1163 | loss=0.0009\n",
      "[2020-01-30 00:04:35,699] \n",
      "7/100 * Epoch 7 (train): _base/lr=0.0010 | _base/momentum=0.9000 | _timers/_fps=2.3993 | _timers/batch_time=0.4168 | _timers/data_time=0.2470 | _timers/model_time=0.1696 | loss=0.0005\n",
      "7/100 * Epoch 7 (valid): _base/lr=0.0010 | _base/momentum=0.9000 | _timers/_fps=2.8503 | _timers/batch_time=0.3508 | _timers/data_time=0.2464 | _timers/model_time=0.1042 | loss=0.0008\n",
      "[2020-01-30 00:04:43,460] \n",
      "8/100 * Epoch 8 (train): _base/lr=0.0010 | _base/momentum=0.9000 | _timers/_fps=2.2109 | _timers/batch_time=0.4523 | _timers/data_time=0.2479 | _timers/model_time=0.2041 | loss=0.0004\n",
      "8/100 * Epoch 8 (valid): _base/lr=0.0010 | _base/momentum=0.9000 | _timers/_fps=2.8772 | _timers/batch_time=0.3476 | _timers/data_time=0.2517 | _timers/model_time=0.0956 | loss=0.0008\n",
      "[2020-01-30 00:04:51,181] \n",
      "9/100 * Epoch 9 (train): _base/lr=0.0010 | _base/momentum=0.9000 | _timers/_fps=2.3611 | _timers/batch_time=0.4235 | _timers/data_time=0.2443 | _timers/model_time=0.1790 | loss=0.0003\n",
      "9/100 * Epoch 9 (valid): _base/lr=0.0010 | _base/momentum=0.9000 | _timers/_fps=2.6401 | _timers/batch_time=0.3788 | _timers/data_time=0.2468 | _timers/model_time=0.1316 | loss=0.0008\n",
      "[2020-01-30 00:04:56,547] \n",
      "10/100 * Epoch 10 (train): _base/lr=0.0010 | _base/momentum=0.9000 | _timers/_fps=2.4621 | _timers/batch_time=0.4062 | _timers/data_time=0.2452 | _timers/model_time=0.1608 | loss=0.0002\n",
      "10/100 * Epoch 10 (valid): _base/lr=0.0010 | _base/momentum=0.9000 | _timers/_fps=2.4139 | _timers/batch_time=0.4143 | _timers/data_time=0.2469 | _timers/model_time=0.1671 | loss=0.0008\n",
      "[2020-01-30 00:05:02,044] \n",
      "11/100 * Epoch 11 (train): _base/lr=0.0010 | _base/momentum=0.9000 | _timers/_fps=2.8294 | _timers/batch_time=0.3534 | _timers/data_time=0.2424 | _timers/model_time=0.1108 | loss=0.0002\n",
      "11/100 * Epoch 11 (valid): _base/lr=0.0010 | _base/momentum=0.9000 | _timers/_fps=2.5811 | _timers/batch_time=0.3874 | _timers/data_time=0.2456 | _timers/model_time=0.1416 | loss=0.0008\n",
      "[2020-01-30 00:05:07,476] \n",
      "12/100 * Epoch 12 (train): _base/lr=0.0010 | _base/momentum=0.9000 | _timers/_fps=2.6961 | _timers/batch_time=0.3709 | _timers/data_time=0.2425 | _timers/model_time=0.1282 | loss=0.0001\n",
      "12/100 * Epoch 12 (valid): _base/lr=0.0010 | _base/momentum=0.9000 | _timers/_fps=2.6993 | _timers/batch_time=0.3705 | _timers/data_time=0.2427 | _timers/model_time=0.1274 | loss=0.0008\n",
      "[2020-01-30 00:05:12,601] \n",
      "13/100 * Epoch 13 (train): _base/lr=0.0010 | _base/momentum=0.9000 | _timers/_fps=2.4799 | _timers/batch_time=0.4032 | _timers/data_time=0.2421 | _timers/model_time=0.1609 | loss=0.0001\n",
      "13/100 * Epoch 13 (valid): _base/lr=0.0010 | _base/momentum=0.9000 | _timers/_fps=2.7336 | _timers/batch_time=0.3658 | _timers/data_time=0.2407 | _timers/model_time=0.1249 | loss=0.0008\n",
      "[2020-01-30 00:05:18,095] \n",
      "14/100 * Epoch 14 (train): _base/lr=0.0001 | _base/momentum=0.9000 | _timers/_fps=2.8934 | _timers/batch_time=0.3456 | _timers/data_time=0.2439 | _timers/model_time=0.1014 | loss=0.0001\n",
      "14/100 * Epoch 14 (valid): _base/lr=0.0001 | _base/momentum=0.9000 | _timers/_fps=2.5343 | _timers/batch_time=0.3946 | _timers/data_time=0.2482 | _timers/model_time=0.1462 | loss=0.0008\n",
      "[2020-01-30 00:05:23,579] \n",
      "15/100 * Epoch 15 (train): _base/lr=0.0001 | _base/momentum=0.9000 | _timers/_fps=2.9722 | _timers/batch_time=0.3365 | _timers/data_time=0.2376 | _timers/model_time=0.0987 | loss=0.0001\n",
      "15/100 * Epoch 15 (valid): _base/lr=0.0001 | _base/momentum=0.9000 | _timers/_fps=2.2730 | _timers/batch_time=0.4400 | _timers/data_time=0.2401 | _timers/model_time=0.1996 | loss=0.0008\n",
      "[2020-01-30 00:05:28,829] \n",
      "16/100 * Epoch 16 (train): _base/lr=0.0001 | _base/momentum=0.9000 | _timers/_fps=2.6154 | _timers/batch_time=0.3823 | _timers/data_time=0.2402 | _timers/model_time=0.1419 | loss=9.769e-05\n",
      "16/100 * Epoch 16 (valid): _base/lr=0.0001 | _base/momentum=0.9000 | _timers/_fps=2.7952 | _timers/batch_time=0.3578 | _timers/data_time=0.2472 | _timers/model_time=0.1102 | loss=0.0008\n",
      "[2020-01-30 00:05:34,303] \n",
      "17/100 * Epoch 17 (train): _base/lr=0.0001 | _base/momentum=0.9000 | _timers/_fps=2.1451 | _timers/batch_time=0.4662 | _timers/data_time=0.2448 | _timers/model_time=0.2211 | loss=9.494e-05\n",
      "17/100 * Epoch 17 (valid): _base/lr=0.0001 | _base/momentum=0.9000 | _timers/_fps=2.6476 | _timers/batch_time=0.3777 | _timers/data_time=0.2564 | _timers/model_time=0.1211 | loss=0.0008\n",
      "[2020-01-30 00:05:39,555] \n",
      "18/100 * Epoch 18 (train): _base/lr=1.000e-05 | _base/momentum=0.9000 | _timers/_fps=2.7612 | _timers/batch_time=0.3622 | _timers/data_time=0.2554 | _timers/model_time=0.1065 | loss=9.194e-05\n",
      "18/100 * Epoch 18 (valid): _base/lr=1.000e-05 | _base/momentum=0.9000 | _timers/_fps=2.7988 | _timers/batch_time=0.3573 | _timers/data_time=0.2583 | _timers/model_time=0.0987 | loss=0.0008\n",
      "Early stop at 19 epoch\n",
      "[2020-01-30 00:05:44,852] \n",
      "19/100 * Epoch 19 (train): _base/lr=1.000e-05 | _base/momentum=0.9000 | _timers/_fps=2.1294 | _timers/batch_time=0.4696 | _timers/data_time=0.2628 | _timers/model_time=0.2066 | loss=9.162e-05\n",
      "19/100 * Epoch 19 (valid): _base/lr=1.000e-05 | _base/momentum=0.9000 | _timers/_fps=2.7393 | _timers/batch_time=0.3651 | _timers/data_time=0.2530 | _timers/model_time=0.1118 | loss=0.0008\n",
      "Top best models:\n",
      "Figures/checkpoints//train.9.pth\t0.0008\n",
      "Training time: 137.2\n",
      "train todevice size torch.Size([1, 36, 32, 64, 64])\n",
      "Against itself, variance=0.7715 and abserr=0.0071\n"
     ]
    }
   ],
   "source": [
    "%matplotlib inline\n",
    "\n",
    "from Sapsan import Sapsan\n",
    "\n",
    "pars = {'path'      : '/raid1/JHTDB/mhd/max_1024/mhd128_t@.4/fm30/',\n",
    "        'dataset'   : 'mhd',\n",
    "        'ttrain'    : [0],\n",
    "        'axis'      : 3,\n",
    "        'dim'       : 64,\n",
    "        'max_dim'   : 128,\n",
    "        'cube_size' : 64,\n",
    "        'batch_size': 1,\n",
    "        'train_fraction' : 0.5,\n",
    "        'dt'        : 2.5e-3,\n",
    "        'method'    : 'cnn',\n",
    "        'parameters': ['u', 'b', 'a', \n",
    "                       'du0', 'du1', 'du2', \n",
    "                       'db0', 'db1', 'db2',\n",
    "                       'da0', 'da1', 'da2'],\n",
    "        'target'    : 'tn',\n",
    "        'targetComp': 2\n",
    "        }\n",
    "\n",
    "ending = '_dim128_fm30'\n",
    "pars['parameters'] = [i+ending for i in pars['parameters']]\n",
    "pars['target'] += ending\n",
    "\n",
    "sps = Sapsan(pars)\n",
    "model = sps.fit()"
   ]
  },
  {
   "cell_type": "code",
   "execution_count": 2,
   "metadata": {},
   "outputs": [
    {
     "name": "stdout",
     "output_type": "stream",
     "text": [
      ">>>TEST TIME<<< 0 [1] 1 [0]\n",
      "Features to use:  ['u_dim128_fm30', 'b_dim128_fm30', 'a_dim128_fm30', 'du0_dim128_fm30', 'du1_dim128_fm30', 'du2_dim128_fm30', 'db0_dim128_fm30', 'db1_dim128_fm30', 'db2_dim128_fm30', 'da0_dim128_fm30', 'da1_dim128_fm30', 'da2_dim128_fm30']\n",
      "<class 'list'> <class 'NoneType'>\n",
      "[1]\n",
      "0\n",
      "0.0025\n",
      "Importing file: /raid1/JHTDB/mhd/max_1024/mhd128_t0.0025/fm30/u_dim128_fm30.h5\n",
      "inh5 imported\n",
      "HDF5 file contains the following: <KeysViewHDF5 ['u00010']>\n",
      "Importing the dataset:  u00010\n",
      "(128, 128, 128, 3)\n",
      "(3, 64, 64, 64) 64\n",
      "64 3\n",
      "SHAPES (1, 262144) (3, 262144)\n",
      "time spent for filtering and reducing 0.8044271469116211\n",
      "[1]\n",
      "0\n",
      "0.0025\n",
      "Importing file: /raid1/JHTDB/mhd/max_1024/mhd128_t0.0025/fm30/b_dim128_fm30.h5\n",
      "inh5 imported\n",
      "HDF5 file contains the following: <KeysViewHDF5 ['b00010']>\n",
      "Importing the dataset:  b00010\n",
      "(128, 128, 128, 3)\n",
      "(3, 64, 64, 64) 64\n",
      "time spent for filtering and reducing 0.8551781177520752\n",
      "[1]\n",
      "0\n",
      "0.0025\n",
      "Importing file: /raid1/JHTDB/mhd/max_1024/mhd128_t0.0025/fm30/a_dim128_fm30.h5\n",
      "inh5 imported\n",
      "HDF5 file contains the following: <KeysViewHDF5 ['a00010']>\n",
      "Importing the dataset:  a00010\n",
      "(128, 128, 128, 3)\n",
      "(3, 64, 64, 64) 64\n",
      "time spent for filtering and reducing 0.7696459293365479\n",
      "Will filter:  du0_dim128_fm30\n",
      "[1]\n",
      "0\n",
      "0.0025\n",
      "Importing file: /raid1/JHTDB/mhd/max_1024/mhd128_t0.0025/fm30/du0_dim128_fm30.h5\n",
      "inh5 imported\n",
      "HDF5 file contains the following: <KeysViewHDF5 ['du000010']>\n",
      "Importing the dataset:  du000010\n",
      "(128, 128, 128, 3)\n",
      "(3, 64, 64, 64) 64\n",
      "time spent for filtering and reducing 0.7637078762054443\n",
      "Will filter:  du1_dim128_fm30\n",
      "[1]\n",
      "0\n",
      "0.0025\n",
      "Importing file: /raid1/JHTDB/mhd/max_1024/mhd128_t0.0025/fm30/du1_dim128_fm30.h5\n",
      "inh5 imported\n",
      "HDF5 file contains the following: <KeysViewHDF5 ['du100010']>\n",
      "Importing the dataset:  du100010\n",
      "(128, 128, 128, 3)\n",
      "(3, 64, 64, 64) 64\n",
      "time spent for filtering and reducing 0.7668178081512451\n",
      "Will filter:  du2_dim128_fm30\n",
      "[1]\n",
      "0\n",
      "0.0025\n",
      "Importing file: /raid1/JHTDB/mhd/max_1024/mhd128_t0.0025/fm30/du2_dim128_fm30.h5\n",
      "inh5 imported\n",
      "HDF5 file contains the following: <KeysViewHDF5 ['du200010']>\n",
      "Importing the dataset:  du200010\n",
      "(128, 128, 128, 3)\n",
      "(3, 64, 64, 64) 64\n",
      "time spent for filtering and reducing 0.8600530624389648\n",
      "Will filter:  db0_dim128_fm30\n",
      "[1]\n",
      "0\n",
      "0.0025\n",
      "Importing file: /raid1/JHTDB/mhd/max_1024/mhd128_t0.0025/fm30/db0_dim128_fm30.h5\n",
      "inh5 imported\n",
      "HDF5 file contains the following: <KeysViewHDF5 ['db000010']>\n",
      "Importing the dataset:  db000010\n",
      "(128, 128, 128, 3)\n",
      "(3, 64, 64, 64) 64\n",
      "time spent for filtering and reducing 0.8526790142059326\n",
      "Will filter:  db1_dim128_fm30\n",
      "[1]\n",
      "0\n",
      "0.0025\n",
      "Importing file: /raid1/JHTDB/mhd/max_1024/mhd128_t0.0025/fm30/db1_dim128_fm30.h5\n",
      "inh5 imported\n",
      "HDF5 file contains the following: <KeysViewHDF5 ['db100010']>\n",
      "Importing the dataset:  db100010\n",
      "(128, 128, 128, 3)\n",
      "(3, 64, 64, 64) 64\n",
      "time spent for filtering and reducing 0.7747037410736084\n",
      "Will filter:  db2_dim128_fm30\n",
      "[1]\n",
      "0\n",
      "0.0025\n",
      "Importing file: /raid1/JHTDB/mhd/max_1024/mhd128_t0.0025/fm30/db2_dim128_fm30.h5\n",
      "inh5 imported\n",
      "HDF5 file contains the following: <KeysViewHDF5 ['db200010']>\n",
      "Importing the dataset:  db200010\n",
      "(128, 128, 128, 3)\n",
      "(3, 64, 64, 64) 64\n",
      "time spent for filtering and reducing 0.7867403030395508\n",
      "Will filter:  da0_dim128_fm30\n",
      "[1]\n",
      "0\n",
      "0.0025\n",
      "Importing file: /raid1/JHTDB/mhd/max_1024/mhd128_t0.0025/fm30/da0_dim128_fm30.h5\n",
      "inh5 imported\n",
      "HDF5 file contains the following: <KeysViewHDF5 ['da000010']>\n",
      "Importing the dataset:  da000010\n",
      "(128, 128, 128, 3)\n",
      "(3, 64, 64, 64) 64\n",
      "time spent for filtering and reducing 0.7738592624664307\n",
      "Will filter:  da1_dim128_fm30\n",
      "[1]\n",
      "0\n",
      "0.0025\n",
      "Importing file: /raid1/JHTDB/mhd/max_1024/mhd128_t0.0025/fm30/da1_dim128_fm30.h5\n",
      "inh5 imported\n",
      "HDF5 file contains the following: <KeysViewHDF5 ['da100010']>\n",
      "Importing the dataset:  da100010\n",
      "(128, 128, 128, 3)\n",
      "(3, 64, 64, 64) 64\n",
      "time spent for filtering and reducing 0.7614524364471436\n",
      "Will filter:  da2_dim128_fm30\n",
      "[1]\n",
      "0\n",
      "0.0025\n",
      "Importing file: /raid1/JHTDB/mhd/max_1024/mhd128_t0.0025/fm30/da2_dim128_fm30.h5\n",
      "inh5 imported\n",
      "HDF5 file contains the following: <KeysViewHDF5 ['da200010']>\n",
      "Importing the dataset:  da200010\n",
      "(128, 128, 128, 3)\n",
      "(3, 64, 64, 64) 64\n",
      "time spent for filtering and reducing 0.7743756771087646\n",
      "Size_Vals 36\n",
      "Features to use:  tn_dim128_fm30\n",
      "<class 'str'> <class 'NoneType'>\n",
      "[1]\n",
      "0\n",
      "0.0025\n",
      "Importing file: /raid1/JHTDB/mhd/max_1024/mhd128_t0.0025/fm30/tn_dim128_fm30.h5\n",
      "inh5 imported\n",
      "HDF5 file contains the following: <KeysViewHDF5 ['tn00010']>\n",
      "Importing the dataset:  tn00010\n",
      "(128, 128, 128, 3)\n",
      "(3, 64, 64, 64) 64\n",
      "64 3\n",
      "SHAPES (1, 262144) (3, 262144)\n",
      "time spent for filtering and reducing 0.7704653739929199\n",
      "Size_Vals 3\n",
      "SHAPES (64, 64, 64, 36) (64, 64, 64, 1)\n",
      "Shapes of test tensors torch.Size([1, 36, 32, 64, 64]) torch.Size([1, 131072])\n",
      "------\n",
      "shape to device,  torch.Size([1, 36, 32, 64, 64]) (1, 131072)\n"
     ]
    },
    {
     "name": "stderr",
     "output_type": "stream",
     "text": [
      "/home/pkarpov/.conda/envs/torch/lib/python3.7/site-packages/skimage/util/shape.py:93: RuntimeWarning:\n",
      "\n",
      "Cannot provide views on a non-contiguous input array without copying.\n",
      "\n"
     ]
    },
    {
     "name": "stdout",
     "output_type": "stream",
     "text": [
      "SHAPES target, pred_test (131072,) (131072,)\n",
      "3d plotting prediction\n",
      "Plotting the PDF\n",
      "a number of outliers 22730\n"
     ]
    },
    {
     "name": "stderr",
     "output_type": "stream",
     "text": [
      "/home/pkarpov/Sapsan/sapsan/ResultAnalysis.py:91: MatplotlibDeprecationWarning:\n",
      "\n",
      "\n",
      "The 'normed' kwarg was deprecated in Matplotlib 2.1 and will be removed in 3.1. Use 'density' instead.\n",
      "\n"
     ]
    },
    {
     "name": "stdout",
     "output_type": "stream",
     "text": [
      "a number of outliers 28287\n",
      "Plotting the CDF\n"
     ]
    },
    {
     "name": "stderr",
     "output_type": "stream",
     "text": [
      "/home/pkarpov/Sapsan/sapsan/ResultAnalysis.py:155: UserWarning:\n",
      "\n",
      "Creating legend with loc=\"best\" can be slow with large amounts of data.\n",
      "\n",
      "/home/pkarpov/Sapsan/sapsan/ResultAnalysis.py:156: UserWarning:\n",
      "\n",
      "Creating legend with loc=\"best\" can be slow with large amounts of data.\n",
      "\n"
     ]
    },
    {
     "data": {
      "image/png": "[encoded data removed]",
      "text/plain": [
       "<Figure size 1152x432 with 4 Axes>"
      ]
     },
     "metadata": {
      "needs_background": "light"
     },
     "output_type": "display_data"
    },
    {
     "data": {
      "image/png": "[encoded data removed]",
      "text/plain": [
       "<Figure size 432x432 with 1 Axes>"
      ]
     },
     "metadata": {
      "needs_background": "light"
     },
     "output_type": "display_data"
    },
    {
     "name": "stderr",
     "output_type": "stream",
     "text": [
      "/home/pkarpov/.conda/envs/torch/lib/python3.7/site-packages/IPython/core/pylabtools.py:128: UserWarning:\n",
      "\n",
      "Creating legend with loc=\"best\" can be slow with large amounts of data.\n",
      "\n"
     ]
    },
    {
     "data": {
      "image/png": "[encoded data removed]",
      "text/plain": [
       "<Figure size 432x432 with 1 Axes>"
      ]
     },
     "metadata": {
      "needs_background": "light"
     },
     "output_type": "display_data"
    },
    {
     "name": "stdout",
     "output_type": "stream",
     "text": [
      "Retrieval time:  17.725520372390747\n"
     ]
    },
    {
     "data": {
      "text/plain": [
       "(array([[0.00710792, 0.77138913]]),\n",
       " array([[ 8.47356713e-190,  5.76782227e-002,  5.76708543e-002,\n",
       "         -7.42333793e-003]]))"
      ]
     },
     "execution_count": 2,
     "metadata": {},
     "output_type": "execute_result"
    },
    {
     "data": {
      "text/plain": [
       "<Figure size 432x288 with 0 Axes>"
      ]
     },
     "metadata": {},
     "output_type": "display_data"
    }
   ],
   "source": [
    "sps.test(model, ttest=[1])"
   ]
  }
 ],
 "metadata": {
  "kernelspec": {
   "display_name": "Python 3",
   "language": "python",
   "name": "python3"
  },
  "language_info": {
   "codemirror_mode": {
    "name": "ipython",
    "version": 3
   },
   "file_extension": ".py",
   "mimetype": "text/x-python",
   "name": "python",
   "nbconvert_exporter": "python",
   "pygments_lexer": "ipython3",
   "version": "3.7.3"
  }
 },
 "nbformat": 4,
 "nbformat_minor": 2
}
