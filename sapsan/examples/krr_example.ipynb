{
 "cells": [
  {
   "cell_type": "code",
   "execution_count": 1,
   "metadata": {
    "scrolled": false
   },
   "outputs": [
    {
     "name": "stderr",
     "output_type": "stream",
     "text": [
      "/home/pkarpov/anaconda3/lib/python3.7/site-packages/sklearn/linear_model/_least_angle.py:34: DeprecationWarning: `np.float` is a deprecated alias for the builtin `float`. To silence this warning, use `float` by itself. Doing this will not modify any behavior and is safe. If you specifically wanted the numpy scalar type, use `np.float64` here.\n",
      "Deprecated in NumPy 1.20; for more details and guidance: https://numpy.org/devdocs/release/1.20.0-notes.html#deprecations\n",
      "  method='lar', copy_X=True, eps=np.finfo(np.float).eps,\n",
      "/home/pkarpov/anaconda3/lib/python3.7/site-packages/catalyst/tools/registry.py:45: DeprecationWarning: Using or importing the ABCs from 'collections' instead of from 'collections.abc' is deprecated since Python 3.3,and in 3.9 it will stop working\n",
      "  class Registry(collections.MutableMapping):\n",
      "/home/pkarpov/anaconda3/lib/python3.7/site-packages/tensorboard/compat/tensorflow_stub/dtypes.py:572: DeprecationWarning:\n",
      "\n",
      "`np.object` is a deprecated alias for the builtin `object`. To silence this warning, use `object` by itself. Doing this will not modify any behavior and is safe. \n",
      "Deprecated in NumPy 1.20; for more details and guidance: https://numpy.org/devdocs/release/1.20.0-notes.html#deprecations\n",
      "\n",
      "/home/pkarpov/anaconda3/lib/python3.7/site-packages/tensorboard/compat/tensorflow_stub/dtypes.py:573: DeprecationWarning:\n",
      "\n",
      "`np.bool` is a deprecated alias for the builtin `bool`. To silence this warning, use `bool` by itself. Doing this will not modify any behavior and is safe. If you specifically wanted the numpy scalar type, use `np.bool_` here.\n",
      "Deprecated in NumPy 1.20; for more details and guidance: https://numpy.org/devdocs/release/1.20.0-notes.html#deprecations\n",
      "\n",
      "/home/pkarpov/anaconda3/lib/python3.7/site-packages/tensorboard/util/tensor_util.py:111: DeprecationWarning:\n",
      "\n",
      "`np.object` is a deprecated alias for the builtin `object`. To silence this warning, use `object` by itself. Doing this will not modify any behavior and is safe. \n",
      "Deprecated in NumPy 1.20; for more details and guidance: https://numpy.org/devdocs/release/1.20.0-notes.html#deprecations\n",
      "\n",
      "/home/pkarpov/anaconda3/lib/python3.7/site-packages/tensorboard/util/tensor_util.py:112: DeprecationWarning:\n",
      "\n",
      "`np.bool` is a deprecated alias for the builtin `bool`. To silence this warning, use `bool` by itself. Doing this will not modify any behavior and is safe. If you specifically wanted the numpy scalar type, use `np.bool_` here.\n",
      "Deprecated in NumPy 1.20; for more details and guidance: https://numpy.org/devdocs/release/1.20.0-notes.html#deprecations\n",
      "\n",
      "/home/pkarpov/anaconda3/lib/python3.7/site-packages/sklearn/decomposition/_lda.py:28: DeprecationWarning:\n",
      "\n",
      "`np.float` is a deprecated alias for the builtin `float`. To silence this warning, use `float` by itself. Doing this will not modify any behavior and is safe. If you specifically wanted the numpy scalar type, use `np.float64` here.\n",
      "Deprecated in NumPy 1.20; for more details and guidance: https://numpy.org/devdocs/release/1.20.0-notes.html#deprecations\n",
      "\n",
      "/home/pkarpov/anaconda3/lib/python3.7/site-packages/plotly/express/_doc.py:451: DeprecationWarning:\n",
      "\n",
      "inspect.getargspec() is deprecated since Python 3.0, use inspect.signature() or inspect.getfullargspec()\n",
      "\n"
     ]
    }
   ],
   "source": [
    "%matplotlib inline\n",
    "import os\n",
    "import sys\n",
    "import numpy as np\n",
    "\n",
    "sys.path.append(\"../../\")\n",
    "\n",
    "from sapsan.lib.backends.fake import FakeBackend\n",
    "from sapsan.lib.backends.mlflow import MLflowBackend\n",
    "from sapsan.lib.data.hdf5_dataset import HDF5Dataset\n",
    "from sapsan.lib.data import EquidistanceSampling\n",
    "from sapsan.lib.estimator import KRR, KRRConfig\n",
    "from sapsan.lib.experiments.evaluate_3d import Evaluate3d\n",
    "from sapsan.lib.experiments.evaluate_flatten import EvaluateFlatten\n",
    "from sapsan.lib.experiments.train import Train"
   ]
  },
  {
   "cell_type": "code",
   "execution_count": null,
   "metadata": {
    "pycharm": {
     "is_executing": false,
     "name": "#%%\n"
    }
   },
   "outputs": [],
   "source": [
    "#--- Experiment tracking backend ---\n",
    "experiment_name = \"KRR experiment\"\n",
    "\n",
    "#Fake (disable backend)\n",
    "#tracking_backend = FakeBackend(experiment_name)\n",
    "\n",
    "#MLflow\n",
    "#launch mlflow with: mlflow ui --port=9000\n",
    "#uncomment tracking_backend to use mlflow\n",
    "\n",
    "MLFLOW_HOST = \"localhost\"\n",
    "MLFLOW_PORT = 9000\n",
    "\n",
    "tracking_backend = MLflowBackend(experiment_name, MLFLOW_HOST, MLFLOW_PORT)"
   ]
  },
  {
   "cell_type": "code",
   "execution_count": null,
   "metadata": {
    "pycharm": {
     "is_executing": false,
     "name": "#%%\n"
    }
   },
   "outputs": [],
   "source": [
    "#--- Data setup ---\n",
    "#In the intereset of loading and training multiple timesteps\n",
    "#one can specify which checkpoints to use and where\n",
    "#they appear in the path via syntax: {checkpoint:format}\n",
    "#\n",
    "#Next, you need to specify which features to load; let's assume \n",
    "#        path = \"{feature}.h5\"\n",
    "#\n",
    "# 1) If in different files, then specify features directly;\n",
    "#    The default HDF5 label will be the last label in the file\n",
    "#    Ex: features = ['velocity', 'denisty', 'pressure']\n",
    "# 2) If in the same, then duplicate the name in features\n",
    "#    and specify which labels to pull\n",
    "#    Ex: features = [\"data\", \"data\", \"data\"]\n",
    "#        feature_labels = ['velocity', 'density', 'pressure']\n",
    "\n",
    "path = 'data/t{checkpoint:1.0f}/{feature}_dim128_2d.h5'\n",
    "features = ['u']\n",
    "target = ['u']\n",
    "\n",
    "#dimensionality of the data\n",
    "AXIS = 2\n",
    "\n",
    "#Dimensionality of your data per axis\n",
    "CHECKPOINT_DATA_SIZE = 128\n",
    "\n",
    "#Reduce dimensionality of each axis to\n",
    "SAMPLE_TO = 64\n",
    "\n",
    "#Sampler to use for reduction\n",
    "sampler = EquidistanceSampling(CHECKPOINT_DATA_SIZE, SAMPLE_TO, AXIS)"
   ]
  },
  {
   "cell_type": "code",
   "execution_count": null,
   "metadata": {},
   "outputs": [],
   "source": [
    "#--- Data setup ---\n",
    "#In the intereset of loading and training multiple timesteps\n",
    "#one can specify which checkpoints to use and where\n",
    "#they appear in the path via syntax: {checkpoint:format}\n",
    "#\n",
    "#Next, you need to specify which features to load; let's assume \n",
    "#        path = \"{feature}.h5\"\n",
    "#\n",
    "# 1) If in different files, then specify features directly;\n",
    "#    The default HDF5 label will be the last label in the file\n",
    "#    Ex: features = ['velocity', 'denisty', 'pressure']\n",
    "# 2) If in the same, then duplicate the name in features\n",
    "#    and specify which labels to pull\n",
    "#    Ex: features = [\"data\", \"data\", \"data\"]\n",
    "#        feature_labels = ['velocity', 'density', 'pressure']\n",
    "\n",
    "path = \"data/t{checkpoint:1.0f}/{feature}_dim32_fm15.h5\"\n",
    "features = ['u']\n",
    "target = ['u']\n",
    "\n",
    "#dimensionality of the data\n",
    "AXIS = 3\n",
    "\n",
    "#Dimensionality of your data per axis\n",
    "CHECKPOINT_DATA_SIZE = 32\n",
    "\n",
    "#Reduce dimensionality of each axis to\n",
    "SAMPLE_TO = 16\n",
    "\n",
    "#Sampler to use for reduction\n",
    "sampler = EquidistanceSampling(CHECKPOINT_DATA_SIZE, SAMPLE_TO, AXIS)"
   ]
  },
  {
   "cell_type": "code",
   "execution_count": null,
   "metadata": {},
   "outputs": [],
   "source": [
    "#--- Train the model ---\n",
    "#Machine Learning model to use\n",
    "\n",
    "#Configuration of the model parameters:\n",
    "#    alpha - rbf kernel hyperparameter\n",
    "#    gamma - rbf kernel hyperparameter\n",
    "estimator = KRR(\n",
    "    config=KRRConfig(gamma=1.778, alpha=0.001)\n",
    ")\n",
    "\n",
    "#Load the data\n",
    "data_loader = HDF5Dataset(path=path,\n",
    "                   features=features,\n",
    "                   target=target,\n",
    "                   checkpoints=[0],\n",
    "                   checkpoint_data_size=CHECKPOINT_DATA_SIZE,\n",
    "                   sampler=sampler, \n",
    "                   axis = AXIS,\n",
    "                   flat = True)\n",
    "x, y = data_loader.load()\n",
    "\n",
    "#ex: predict one component of the target\n",
    "y = np.array([y[0]])\n",
    "\n",
    "#Set the experiment\n",
    "training_experiment = Train(name=experiment_name,\n",
    "                             backend=tracking_backend,\n",
    "                             model=estimator,\n",
    "                             inputs=x, targets=y,\n",
    "                             data_parameters = data_loader.get_parameters())\n",
    "#Train the model\n",
    "training_experiment.run()"
   ]
  },
  {
   "cell_type": "code",
   "execution_count": 2,
   "metadata": {},
   "outputs": [
    {
     "ename": "NameError",
     "evalue": "name 'path' is not defined",
     "output_type": "error",
     "traceback": [
      "\u001b[0;31m---------------------------------------------------------------------------\u001b[0m",
      "\u001b[0;31mNameError\u001b[0m                                 Traceback (most recent call last)",
      "\u001b[0;32m<ipython-input-2-5be25609371b>\u001b[0m in \u001b[0;36m<module>\u001b[0;34m\u001b[0m\n\u001b[1;32m      1\u001b[0m \u001b[0;31m#--- Test the model ---\u001b[0m\u001b[0;34m\u001b[0m\u001b[0;34m\u001b[0m\u001b[0;34m\u001b[0m\u001b[0m\n\u001b[1;32m      2\u001b[0m \u001b[0;31m#Load the test data\u001b[0m\u001b[0;34m\u001b[0m\u001b[0;34m\u001b[0m\u001b[0;34m\u001b[0m\u001b[0m\n\u001b[0;32m----> 3\u001b[0;31m data_loader = HDF5Dataset(path=path,\n\u001b[0m\u001b[1;32m      4\u001b[0m                    \u001b[0mfeatures\u001b[0m\u001b[0;34m=\u001b[0m\u001b[0mfeatures\u001b[0m\u001b[0;34m,\u001b[0m\u001b[0;34m\u001b[0m\u001b[0;34m\u001b[0m\u001b[0m\n\u001b[1;32m      5\u001b[0m                    \u001b[0mtarget\u001b[0m\u001b[0;34m=\u001b[0m\u001b[0mtarget\u001b[0m\u001b[0;34m,\u001b[0m\u001b[0;34m\u001b[0m\u001b[0;34m\u001b[0m\u001b[0m\n",
      "\u001b[0;31mNameError\u001b[0m: name 'path' is not defined"
     ]
    }
   ],
   "source": [
    "#--- Test the model ---\n",
    "#Load the test data\n",
    "data_loader = HDF5Dataset(path=path,\n",
    "                   features=features,\n",
    "                   target=target,\n",
    "                   checkpoints=[0],\n",
    "                   checkpoint_data_size=CHECKPOINT_DATA_SIZE,\n",
    "                   sampler=sampler, \n",
    "                   axis = AXIS,\n",
    "                   flat = True)\n",
    "x, y = data_loader.load()\n",
    "\n",
    "#ex: predict one component of the target\n",
    "y = np.array([y[0]])\n",
    "\n",
    "#Set the test experiment\n",
    "evaluation_experiment = EvaluateFlatten(name=experiment_name,\n",
    "                                           backend=tracking_backend,\n",
    "                                           model=training_experiment.model,\n",
    "                                           inputs=x, targets=y,\n",
    "                                           checkpoint_data_size=SAMPLE_TO,\n",
    "                                           checkpoints=[0], \n",
    "                                           axis = AXIS)\n",
    "\n",
    "#Test the model\n",
    "evaluation_experiment.run()"
   ]
  },
  {
   "cell_type": "code",
   "execution_count": null,
   "metadata": {},
   "outputs": [],
   "source": []
  }
 ],
 "metadata": {
  "kernelspec": {
   "display_name": "Python 3",
   "language": "python",
   "name": "python3"
  },
  "language_info": {
   "codemirror_mode": {
    "name": "ipython",
    "version": 3
   },
   "file_extension": ".py",
   "mimetype": "text/x-python",
   "name": "python",
   "nbconvert_exporter": "python",
   "pygments_lexer": "ipython3",
   "version": "3.7.6"
  },
  "pycharm": {
   "stem_cell": {
    "cell_type": "raw",
    "metadata": {
     "collapsed": false
    },
    "source": []
   }
  }
 },
 "nbformat": 4,
 "nbformat_minor": 2
}
