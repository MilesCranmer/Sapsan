{
 "cells": [
  {
   "cell_type": "code",
   "execution_count": null,
   "metadata": {
    "scrolled": true
   },
   "outputs": [],
   "source": [
    "%matplotlib inline\n",
    "import os\n",
    "import sys\n",
    "\n",
    "sys.path.append(\"../../\")\n",
    "\n",
    "from sapsan.lib.backends.fake import FakeBackend\n",
    "from sapsan.lib.backends.mlflow import MLflowBackend\n",
    "from sapsan.lib.data.hdf5_dataset import HDF5Dataset\n",
    "from sapsan.lib.data import EquidistantSampling\n",
    "from sapsan.lib.estimator import PICAE, PICAEConfig\n",
    "from sapsan.lib.experiments.evaluate import Evaluate\n",
    "from sapsan.lib.experiments.train import Train\n",
    "from sapsan.utils.plot import model_graph"
   ]
  },
  {
   "cell_type": "code",
   "execution_count": null,
   "metadata": {
    "pycharm": {
     "is_executing": false,
     "name": "#%%\n"
    }
   },
   "outputs": [],
   "source": [
    "#--- Experiment tracking backend ---\n",
    "experiment_name = \"CNN experiment\"\n",
    "\n",
    "#Fake (disable backend)\n",
    "tracking_backend = FakeBackend(experiment_name)\n",
    "\n",
    "#MLflow\n",
    "#launch mlflow with: mlflow ui --port=9000\n",
    "#uncomment tracking_backend to use mlflow\n",
    "\n",
    "MLFLOW_HOST = \"localhost\"\n",
    "MLFLOW_PORT = 9000\n",
    "\n",
    "#tracking_backend = MLflowBackend(experiment_name, MLFLOW_HOST, MLFLOW_PORT)"
   ]
  },
  {
   "cell_type": "code",
   "execution_count": null,
   "metadata": {
    "pycharm": {
     "is_executing": false,
     "name": "#%%\n"
    }
   },
   "outputs": [],
   "source": [
    "#--- Data setup ---\n",
    "#In the intereset of loading and training multiple timesteps\n",
    "#one can specify which checkpoints to use and where\n",
    "#they appear in the path via syntax: {checkpoint:format}\n",
    "#\n",
    "#Next, you need to specify which features to load; let's assume \n",
    "#        path = \"{feature}.h5\"\n",
    "#\n",
    "# 1) If in different files, then specify features directly;\n",
    "#    The default HDF5 label will be the last label in the file\n",
    "#    Ex: features = ['velocity', 'denisty', 'pressure']\n",
    "# 2) If in the same, then duplicate the name in features\n",
    "#    and specify which labels to pull\n",
    "#    Ex: features = [\"data\", \"data\", \"data\"]\n",
    "#        feature_labels = ['velocity', 'density', 'pressure']\n",
    "\n",
    "path = \"data/t{checkpoint:1.0f}/picae_random_{feature}.h5\"\n",
    "features = ['u']\n",
    "target = ['u']\n",
    "\n",
    "#Dimensionality of your data per axis\n",
    "INPUT_SIZE = (32,32,32)\n",
    "\n",
    "#Reduce dimensionality of each axis to\n",
    "SAMPLE_TO = (16,16,16)\n",
    "\n",
    "#Number of batches\n",
    "BATCH_NUM = 1\n",
    "\n",
    "#Sampler to use for reduction\n",
    "sampler = EquidistantSampling(INPUT_SIZE, SAMPLE_TO)"
   ]
  },
  {
   "cell_type": "code",
   "execution_count": null,
   "metadata": {},
   "outputs": [],
   "source": [
    "#Load the data\n",
    "data_loader = HDF5Dataset(path = path,\n",
    "                          features = features,\n",
    "                          target = target,\n",
    "                          checkpoints = [0],\n",
    "                          batch_num = BATCH_NUM,\n",
    "                          input_size = INPUT_SIZE,\n",
    "                          sampler = sampler)\n",
    "x, y = data_loader.load_numpy()\n",
    "\n",
    "loaders = data_loader.convert_to_torch([x, y])"
   ]
  },
  {
   "cell_type": "code",
   "execution_count": null,
   "metadata": {},
   "outputs": [],
   "source": [
    "estimator = PICAE(config=PICAEConfig(nfilters = 6, \n",
    "                                     kernel_size = (3,3,3), \n",
    "                                     enc_nlayers = 3,                        \n",
    "                                     dec_nlayers = 3, \n",
    "                                     n_epochs = 1,\n",
    "                                     patience = 10, \n",
    "                                     min_delta = 1e-5))"
   ]
  },
  {
   "cell_type": "code",
   "execution_count": null,
   "metadata": {},
   "outputs": [],
   "source": [
    "#Set the experiment\n",
    "training_experiment = Train(backend = tracking_backend,\n",
    "                            model = estimator,\n",
    "                            loaders = loaders,\n",
    "                            data_parameters = data_loader)\n",
    "\n",
    "#Train the model\n",
    "training_experiment.run()"
   ]
  },
  {
   "cell_type": "code",
   "execution_count": null,
   "metadata": {
    "scrolled": false
   },
   "outputs": [],
   "source": [
    "#--- Test the model ---\n",
    "#Load the data\n",
    "data_loader = HDF5Dataset(path = path,\n",
    "                          features = features,\n",
    "                          target = target,\n",
    "                          checkpoints = [0],\n",
    "                          batch_num = BATCH_NUM,\n",
    "                          input_size = INPUT_SIZE,\n",
    "                          sampler = sampler)\n",
    "x, y = data_loader.load_numpy()\n",
    "\n",
    "#Set the test experiment\n",
    "#loaders need to take in the same size data as the individual training batch\n",
    "evaluation_experiment = Evaluate(backend=tracking_backend,\n",
    "                                 model=training_experiment.model,\n",
    "                                 loaders = [x[:BATCH_NUM],y[:BATCH_NUM]],\n",
    "                                 data_parameters = data_loader)\n",
    "\n",
    "\n",
    "#Test the model\n",
    "target_cube, pred_cube = evaluation_experiment.run()"
   ]
  },
  {
   "cell_type": "code",
   "execution_count": null,
   "metadata": {},
   "outputs": [],
   "source": []
  }
 ],
 "metadata": {
  "kernelspec": {
   "display_name": "Python 3",
   "language": "python",
   "name": "python3"
  },
  "language_info": {
   "codemirror_mode": {
    "name": "ipython",
    "version": 3
   },
   "file_extension": ".py",
   "mimetype": "text/x-python",
   "name": "python",
   "nbconvert_exporter": "python",
   "pygments_lexer": "ipython3",
   "version": "3.8.5"
  },
  "pycharm": {
   "stem_cell": {
    "cell_type": "raw",
    "metadata": {
     "collapsed": false
    },
    "source": []
   }
  }
 },
 "nbformat": 4,
 "nbformat_minor": 2
}
