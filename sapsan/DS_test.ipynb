{
 "cells": [
  {
   "cell_type": "code",
   "execution_count": 236,
   "metadata": {
    "scrolled": true
   },
   "outputs": [
    {
     "name": "stdout",
     "output_type": "stream",
     "text": [
      "Running parameters:  {'path': '/raid1/JHTDB/mhd/max_1024/mhd128_t@.4/fm30/', 'dataset': 'mhd', 'ttrain': [0], 'axis': 3, 'dim': 64, 'max_dim': 128, 'cube_size': 64, 'batch_size': 1, 'train_fraction': 0.5, 'dt': 0.0025, 'method': 'cnn', 'parameters': ['u_dim128_fm30', 'du0_dim128_fm30', 'du1_dim128_fm30', 'du2_dim128_fm30'], 'target': 'tn_dim128_fm30', 'targetComp': 2, 'name': 'DS'}\n",
      "Features to use:  ['u_dim128_fm30', 'du0_dim128_fm30', 'du1_dim128_fm30', 'du2_dim128_fm30']\n",
      "<class 'list'> <class 'NoneType'>\n",
      "[0]\n",
      "0\n",
      "0.0025\n",
      "Importing file: /raid1/JHTDB/mhd/max_1024/mhd128_t0.0000/fm30/u_dim128_fm30.h5\n",
      "inh5 imported\n",
      "HDF5 file contains the following: <KeysViewHDF5 ['u00000']>\n",
      "Importing the dataset:  u00000\n",
      "(128, 128, 128, 3)\n",
      "(3, 64, 64, 64) 64\n",
      "64 3\n",
      "SHAPES (1, 262144) (3, 262144)\n",
      "time spent for filtering and reducing 0.29611682891845703\n",
      "Will filter:  du0_dim128_fm30\n",
      "[0]\n",
      "0\n",
      "0.0025\n",
      "Importing file: /raid1/JHTDB/mhd/max_1024/mhd128_t0.0000/fm30/du0_dim128_fm30.h5\n",
      "inh5 imported\n",
      "HDF5 file contains the following: <KeysViewHDF5 ['du000000']>\n",
      "Importing the dataset:  du000000\n",
      "(128, 128, 128, 3)\n",
      "(3, 64, 64, 64) 64\n",
      "time spent for filtering and reducing 0.40990447998046875\n",
      "Will filter:  du1_dim128_fm30\n",
      "[0]\n",
      "0\n",
      "0.0025\n",
      "Importing file: /raid1/JHTDB/mhd/max_1024/mhd128_t0.0000/fm30/du1_dim128_fm30.h5\n",
      "inh5 imported\n",
      "HDF5 file contains the following: <KeysViewHDF5 ['du100000']>\n",
      "Importing the dataset:  du100000\n",
      "(128, 128, 128, 3)\n",
      "(3, 64, 64, 64) 64\n",
      "time spent for filtering and reducing 0.2672572135925293\n",
      "Will filter:  du2_dim128_fm30\n",
      "[0]\n",
      "0\n",
      "0.0025\n",
      "Importing file: /raid1/JHTDB/mhd/max_1024/mhd128_t0.0000/fm30/du2_dim128_fm30.h5\n",
      "inh5 imported\n",
      "HDF5 file contains the following: <KeysViewHDF5 ['du200000']>\n",
      "Importing the dataset:  du200000\n",
      "(128, 128, 128, 3)\n",
      "(3, 64, 64, 64) 64\n",
      "time spent for filtering and reducing 0.2718055248260498\n",
      "Size_Vals 12\n",
      "Features to use:  tn_dim128_fm30\n",
      "<class 'str'> <class 'NoneType'>\n",
      "[0]\n",
      "0\n",
      "0.0025\n",
      "Importing file: /raid1/JHTDB/mhd/max_1024/mhd128_t0.0000/fm30/tn_dim128_fm30.h5\n",
      "inh5 imported\n",
      "HDF5 file contains the following: <KeysViewHDF5 ['tn00000']>\n",
      "Importing the dataset:  tn00000\n",
      "(128, 128, 128, 3)\n",
      "(3, 64, 64, 64) 64\n",
      "64 3\n",
      "SHAPES (1, 262144) (3, 262144)\n",
      "time spent for filtering and reducing 0.2794156074523926\n",
      "Size_Vals 3\n"
     ]
    }
   ],
   "source": [
    "from Sapsan import Sapsan\n",
    "import numpy as np\n",
    "\n",
    "pars = {'path'      : '/raid1/JHTDB/mhd/max_1024/mhd128_t@.4/fm30/',\n",
    "        'dataset'   : 'mhd',\n",
    "        'ttrain'    : [0],\n",
    "        'axis'      : 3,\n",
    "        'dim'       : 64,\n",
    "        'max_dim'   : 128,\n",
    "        'cube_size' : 64,\n",
    "        'batch_size': 1,\n",
    "        'train_fraction' : 0.5,\n",
    "        'dt'        : 2.5e-3,\n",
    "        'method'    : 'cnn',\n",
    "        'parameters': ['u', 'du0','du1','du2'],\n",
    "        'target'    : 'tn',\n",
    "        'targetComp': 2,\n",
    "        'name'      : 'DS'\n",
    "        }\n",
    "ending = '_dim128_fm30'\n",
    "pars['parameters'] = [i+ending for i in pars['parameters']]\n",
    "pars['target'] += ending\n",
    "\n",
    "sps = Sapsan(pars)\n",
    "\n",
    "#model = sps.fit()\n",
    "vals = sps.data.get_features(sps.parameters, sps.parLabel, train=True)\n",
    "target = sps.data.get_features(sps.target, sps.targetLabel, train=True)\n",
    "\n"
   ]
  },
  {
   "cell_type": "code",
   "execution_count": 237,
   "metadata": {},
   "outputs": [],
   "source": [
    "vals = np.moveaxis(vals, -1, 0)\n",
    "target = np.moveaxis(target, -1, 0)"
   ]
  },
  {
   "cell_type": "code",
   "execution_count": 238,
   "metadata": {},
   "outputs": [],
   "source": [
    "allvals = np.concatenate((vals, target),axis = 0)"
   ]
  },
  {
   "cell_type": "code",
   "execution_count": 239,
   "metadata": {},
   "outputs": [
    {
     "name": "stdout",
     "output_type": "stream",
     "text": [
      "(12, 262144)\n",
      "(3, 262144)\n",
      "(15, 262144)\n"
     ]
    }
   ],
   "source": [
    "print(vals.shape)\n",
    "print(target.shape)\n",
    "print(allvals.shape)"
   ]
  },
  {
   "cell_type": "code",
   "execution_count": 240,
   "metadata": {},
   "outputs": [],
   "source": [
    "np.savetxt('u_du_tn2_dim64.txt', allvals)"
   ]
  },
  {
   "cell_type": "code",
   "execution_count": 234,
   "metadata": {},
   "outputs": [],
   "source": [
    "allvals = np.loadtxt('u_du_tn2_dim64.txt')"
   ]
  },
  {
   "cell_type": "code",
   "execution_count": 235,
   "metadata": {},
   "outputs": [
    {
     "name": "stdout",
     "output_type": "stream",
     "text": [
      "(15, 262144)\n"
     ]
    }
   ],
   "source": [
    "print(allvals.shape)"
   ]
  },
  {
   "cell_type": "code",
   "execution_count": 219,
   "metadata": {
    "scrolled": true
   },
   "outputs": [
    {
     "name": "stdout",
     "output_type": "stream",
     "text": [
      "(262144, 12)\n",
      "15\n",
      "SHAPE (3, 64, 64, 64) (9, 64, 64, 64)\n",
      "(64, 64, 64)\n",
      "Applied spectral filter in: 0.2 s\n",
      "(64, 64, 64)\n",
      "Applied spectral filter in: 0.3 s\n",
      "(64, 64, 64)\n",
      "Applied spectral filter in: 0.3 s\n",
      "(64, 64, 64)\n",
      "Applied spectral filter in: 0.3 s\n",
      "(64, 64, 64)\n",
      "Applied spectral filter in: 0.3 s\n",
      "(64, 64, 64)\n",
      "Applied spectral filter in: 0.2 s\n",
      "(64, 64, 64)\n",
      "Applied spectral filter in: 0.2 s\n",
      "(64, 64, 64)\n",
      "Applied spectral filter in: 0.2 s\n",
      "(64, 64, 64)\n",
      "Applied spectral filter in: 0.2 s\n",
      "(64, 64, 64)\n",
      "Applied spectral filter in: 0.2 s\n",
      "(64, 64, 64)\n",
      "Applied spectral filter in: 0.2 s\n",
      "(64, 64, 64)\n",
      "Applied spectral filter in: 0.2 s\n",
      "(64, 64, 64)\n",
      "Applied spectral filter in: 0.2 s\n",
      "(64, 64, 64)\n",
      "Applied spectral filter in: 0.2 s\n",
      "(64, 64, 64)\n",
      "Applied spectral filter in: 0.2 s\n",
      "(64, 64, 64)\n",
      "Applied spectral filter in: 0.2 s\n",
      "(64, 64, 64)\n",
      "Applied spectral filter in: 0.2 s\n",
      "(64, 64, 64)\n",
      "Applied spectral filter in: 0.2 s\n",
      "(64, 64, 64)\n",
      "Applied spectral filter in: 0.2 s\n",
      "(64, 64, 64)\n",
      "Applied spectral filter in: 0.2 s\n",
      "(64, 64, 64)\n",
      "Applied spectral filter in: 0.2 s\n",
      "(64, 64, 64)\n",
      "Applied spectral filter in: 0.2 s\n",
      "(64, 64, 64)\n",
      "Applied spectral filter in: 0.2 s\n",
      "(64, 64, 64)\n",
      "Applied spectral filter in: 0.2 s\n",
      "(64, 64, 64)\n",
      "Applied spectral filter in: 0.2 s\n",
      "(64, 64, 64)\n",
      "Applied spectral filter in: 0.2 s\n",
      "(64, 64, 64)\n",
      "Applied spectral filter in: 0.2 s\n",
      "(3, 3, 64, 64, 64)\n",
      "(64, 64, 64) (3, 3, 64, 64, 64)\n",
      "(64, 64, 64)\n",
      "Applied spectral filter in: 0.2 s\n",
      "(64, 64, 64)\n",
      "Applied spectral filter in: 0.2 s\n",
      "(64, 64, 64)\n",
      "Applied spectral filter in: 0.1 s\n",
      "(64, 64, 64)\n",
      "Applied spectral filter in: 0.2 s\n",
      "(64, 64, 64)\n",
      "Applied spectral filter in: 0.2 s\n",
      "(64, 64, 64)\n",
      "Applied spectral filter in: 0.2 s\n",
      "(64, 64, 64)\n",
      "Applied spectral filter in: 0.2 s\n",
      "(64, 64, 64)\n",
      "Applied spectral filter in: 0.2 s\n",
      "(64, 64, 64)\n",
      "Applied spectral filter in: 0.1 s\n",
      "(64, 64, 64)\n",
      "Applied spectral filter in: 0.2 s\n",
      "(64, 64, 64)\n",
      "Applied spectral filter in: 0.3 s\n",
      "(64, 64, 64)\n",
      "Applied spectral filter in: 0.2 s\n",
      "(64, 64, 64)\n",
      "Applied spectral filter in: 0.2 s\n",
      "(64, 64, 64)\n",
      "Applied spectral filter in: 0.2 s\n",
      "(64, 64, 64)\n",
      "Applied spectral filter in: 0.2 s\n",
      "(64, 64, 64)\n",
      "Applied spectral filter in: 0.3 s\n",
      "(64, 64, 64)\n",
      "Applied spectral filter in: 0.2 s\n",
      "(64, 64, 64)\n",
      "Applied spectral filter in: 0.2 s\n",
      "(64, 64, 64)\n",
      "Applied spectral filter in: 0.2 s\n",
      "(64, 64, 64)\n",
      "Applied spectral filter in: 0.2 s\n",
      "(64, 64, 64)\n",
      "Applied spectral filter in: 0.2 s\n",
      "(64, 64, 64)\n",
      "Applied spectral filter in: 0.2 s\n",
      "(64, 64, 64)\n",
      "Applied spectral filter in: 0.2 s\n",
      "(64, 64, 64)\n",
      "Applied spectral filter in: 0.1 s\n",
      "(64, 64, 64)\n",
      "Applied spectral filter in: 0.3 s\n",
      "(64, 64, 64)\n",
      "Applied spectral filter in: 0.1 s\n",
      "(64, 64, 64)\n",
      "Applied spectral filter in: 0.2 s\n",
      "(3, 3, 64, 64, 64) (3, 3, 64, 64, 64)\n",
      "(64, 64, 64) (64, 64, 64) (3, 3, 64, 64, 64) (64, 64, 64)\n",
      "(3, 3, 64, 64, 64)\n"
     ]
    }
   ],
   "source": [
    "import numpy as np\n",
    "\n",
    "print(np.shape(vals))\n",
    "\n",
    "ds = DS(64, sps)\n",
    "\n",
    "tn = ds.run(vals)\n",
    "\n",
    "print(np.shape(tn))"
   ]
  },
  {
   "cell_type": "code",
   "execution_count": 221,
   "metadata": {},
   "outputs": [
    {
     "name": "stdout",
     "output_type": "stream",
     "text": [
      "(3, 64, 64, 64)\n",
      "(262144, 3)\n",
      "(262144,) (262144,)\n",
      "2\n",
      "Plotting the PDF\n",
      "a number of outliers 67590\n",
      "a number of outliers 3142\n"
     ]
    },
    {
     "data": {
      "image/png": "[encoded data removed]",
      "text/plain": [
       "<Figure size 1152x432 with 4 Axes>"
      ]
     },
     "metadata": {
      "needs_background": "light"
     },
     "output_type": "display_data"
    },
    {
     "data": {
      "image/png": "[encoded data removed]",
      "text/plain": [
       "<Figure size 432x432 with 1 Axes>"
      ]
     },
     "metadata": {
      "needs_background": "light"
     },
     "output_type": "display_data"
    }
   ],
   "source": [
    "import matplotlib.pyplot as plt\n",
    "\n",
    "\n",
    "fig = plt.figure(figsize = (16, 6))\n",
    "a = fig.add_subplot(121)\n",
    "im = plt.imshow(target[:,2].reshape(sps.dim,sps.dim,sps.dim)[0], cmap='ocean')\n",
    "plt.colorbar(im).ax.tick_params(labelsize=15)\n",
    "plt.title('Original')\n",
    "\n",
    "print(np.shape(tn[:,0]))\n",
    "print(np.shape(target))\n",
    "\n",
    "a = fig.add_subplot(122)\n",
    "im = plt.imshow(tn[0,2,0], cmap='ocean')\n",
    "plt.colorbar(im).ax.tick_params(labelsize=15)\n",
    "plt.title('Predicted')\n",
    "\n",
    "tar = np.reshape(target[:,1], (sps.dim**3))\n",
    "new = np.reshape(tn[0,1], (sps.dim**3))\n",
    "\n",
    "print(new.shape, tar.shape)\n",
    "print(len(np.stack((tar,new))))\n",
    "sps.results.pdf(np.stack((tar,new)))"
   ]
  },
  {
   "cell_type": "code",
   "execution_count": 222,
   "metadata": {},
   "outputs": [],
   "source": [
    "from filters import Filters\n",
    "import sys\n",
    "\n",
    "class DS:\n",
    "    def __init__(self, dim, sps):\n",
    "        self.dim = dim\n",
    "        self.filt = getattr(Filters, 'spectral')\n",
    "            \n",
    "    def run(self, vals):\n",
    "        sps.fm = 15\n",
    "\n",
    "        u = vals[:,:3]\n",
    "        du = vals[:,3:]\n",
    "        u = np.moveaxis(u.reshape(self.dim,self.dim,self.dim, u.shape[-1]),-1,0)\n",
    "        du = np.moveaxis(du.reshape(self.dim,self.dim,self.dim, du.shape[-1]),-1,0)\n",
    "\n",
    "        L = self.Lvar(u)\n",
    "        S = self.Stn(du)\n",
    "        M, Sd = self.Mvar(S)\n",
    "\n",
    "        Cd = np.zeros((self.dim, self.dim, self.dim))\n",
    "\n",
    "        for i in range(self.dim):\n",
    "            for j in range(self.dim):\n",
    "                for k in range(self.dim):\n",
    "\n",
    "                    Cd[i,j,k] = 1/2*((sum((np.matmul(L[:,:,i,j,k],M[:,:,i,j,k])).flatten())/9)/\n",
    "                                    (sum(np.matmul(M[:,:,i,j,k],M[:,:,i,j,k]).flatten())/9))\n",
    "\n",
    "        print('shape of L', L.shape)\n",
    "        print('shape of M', M.shape)\n",
    "        print('shape of Sd', Sd.shape)\n",
    "        print('shape of Cd', Cd.shape)\n",
    "        print('shape of Cd', S.shape)\n",
    "        \n",
    "        tn = np.zeros((3,3,self.dim, self.dim, self.dim))\n",
    "        for i in range(3):\n",
    "            for j in range(3):\n",
    "                tn[i,j]=-2*Cd*Sd*S[i,j]\n",
    "        return tn\n",
    "            \n",
    "    #Dynamic Smagorinsky\n",
    "    def Lvar(self, u):\n",
    "        #calculates stress tensor components\n",
    "        length = len(u)\n",
    "        tn = np.zeros((length,length,self.dim, self.dim, self.dim))\n",
    "        for i in range(3):\n",
    "            for j in range(3):\n",
    "                tn[i,j] = (self.filt(sps, u[i]*u[j], self.dim)-\n",
    "                           self.filt(sps, u[i], self.dim)*self.filt(sps, u[j], self.dim))\n",
    "        return tn\n",
    "\n",
    "    def Stn(self, du):\n",
    "        length = 3 #len(u)\n",
    "        \n",
    "        sps.fm = 15\n",
    "        S = np.zeros((length,length,self.dim, self.dim, self.dim))\n",
    "        for i in range(3):\n",
    "            for j in range(3):\n",
    "                S[i,j] = 1/2*(du[i]+du[j])\n",
    "        return S\n",
    "\n",
    "    def Mvar(self, S):\n",
    "        length = len(S)\n",
    "        M = np.zeros((length,length,self.dim, self.dim,self.dim))\n",
    "\n",
    "        Sd = np.zeros((self.dim, self.dim, self.dim))\n",
    "        for i in range(self.dim):\n",
    "            for j in range(self.dim):\n",
    "                for k in range(self.dim):\n",
    "                    Sd[i,j,k] = np.sqrt(2)*np.linalg.norm(S[:,:,i,j,k])\n",
    "\n",
    "        for i in range(3):\n",
    "            for j in range(3):\n",
    "                #>>>>>>>>1/2 is the ratio of filters!<<<<<<<<<\n",
    "                M[i,j] = (self.filt(sps,Sd*S[i,j], self.dim) - \n",
    "                           (1/2)**2*self.filt(sps, Sd, self.dim)*self.filt(sps,S[i,j], self.dim))\n",
    "        return M, Sd"
   ]
  }
 ],
 "metadata": {
  "kernelspec": {
   "display_name": "Python 3",
   "language": "python",
   "name": "python3"
  },
  "language_info": {
   "codemirror_mode": {
    "name": "ipython",
    "version": 3
   },
   "file_extension": ".py",
   "mimetype": "text/x-python",
   "name": "python",
   "nbconvert_exporter": "python",
   "pygments_lexer": "ipython3",
   "version": "3.7.4"
  }
 },
 "nbformat": 4,
 "nbformat_minor": 2
}
