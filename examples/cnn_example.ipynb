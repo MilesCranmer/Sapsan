{
 "cells": [
  {
   "cell_type": "code",
   "execution_count": 1,
   "metadata": {},
   "outputs": [
    {
     "ename": "ModuleNotFoundError",
     "evalue": "No module named 'sapsan'",
     "output_type": "error",
     "traceback": [
      "\u001b[0;31m---------------------------------------------------------------------------\u001b[0m",
      "\u001b[0;31mModuleNotFoundError\u001b[0m                       Traceback (most recent call last)",
      "\u001b[0;32m<ipython-input-1-00b4ea192576>\u001b[0m in \u001b[0;36m<module>\u001b[0;34m\u001b[0m\n\u001b[1;32m      1\u001b[0m \u001b[0;32mimport\u001b[0m \u001b[0mos\u001b[0m\u001b[0;34m\u001b[0m\u001b[0;34m\u001b[0m\u001b[0m\n\u001b[1;32m      2\u001b[0m \u001b[0;34m\u001b[0m\u001b[0m\n\u001b[0;32m----> 3\u001b[0;31m \u001b[0;32mfrom\u001b[0m \u001b[0msapsan\u001b[0m\u001b[0;34m.\u001b[0m\u001b[0mlib\u001b[0m\u001b[0;34m.\u001b[0m\u001b[0mbackends\u001b[0m\u001b[0;34m.\u001b[0m\u001b[0mfake\u001b[0m \u001b[0;32mimport\u001b[0m \u001b[0mFakeExperimentBackend\u001b[0m\u001b[0;34m\u001b[0m\u001b[0;34m\u001b[0m\u001b[0m\n\u001b[0m\u001b[1;32m      4\u001b[0m \u001b[0;32mfrom\u001b[0m \u001b[0msapsan\u001b[0m\u001b[0;34m.\u001b[0m\u001b[0mlib\u001b[0m\u001b[0;34m.\u001b[0m\u001b[0mdata\u001b[0m\u001b[0;34m.\u001b[0m\u001b[0mjhtdb_dataset\u001b[0m \u001b[0;32mimport\u001b[0m \u001b[0mJHTDB128Dataset\u001b[0m\u001b[0;34m\u001b[0m\u001b[0;34m\u001b[0m\u001b[0m\n\u001b[1;32m      5\u001b[0m \u001b[0;32mfrom\u001b[0m \u001b[0msapsan\u001b[0m\u001b[0;34m.\u001b[0m\u001b[0mlib\u001b[0m\u001b[0;34m.\u001b[0m\u001b[0mdata\u001b[0m \u001b[0;32mimport\u001b[0m \u001b[0mEquidistance3dSampling\u001b[0m\u001b[0;34m\u001b[0m\u001b[0;34m\u001b[0m\u001b[0m\n",
      "\u001b[0;31mModuleNotFoundError\u001b[0m: No module named 'sapsan'"
     ]
    }
   ],
   "source": [
    "import os\n",
    "\n",
    "from sapsan.lib.backends.fake import FakeExperimentBackend\n",
    "from sapsan.lib.data.jhtdb_dataset import JHTDB128Dataset\n",
    "from sapsan.lib.data import Equidistance3dSampling\n",
    "from sapsan.lib.estimator import Spacial3dEncoderNetworkEstimator, Spacial3dEncoderNetworkEstimatorConfiguration\n",
    "from sapsan.lib.experiments.evaluation_3d import Evaluation3dExperiment\n",
    "from sapsan.lib.experiments.training import TrainingExperiment\n",
    "\n",
    "os.environ[\"AWS_ACCESS_KEY_ID\"] = \"<AWS_ACCESS_KEY_ID>\"\n",
    "os.environ[\"AWS_SECRET_ACCESS_KEY\"] = \"<AWS_SECRET_ACCESS_KEY>\"\n",
    "\n",
    "def run():\n",
    "    MLFLOW_BACKEND_HOST = \"0.0.0.0\"\n",
    "    MLFLOW_BACKEND_PORT = 9000\n",
    "    dataset_root_dir = \"data\"\n",
    "    CHECKPOINT_DATA_SIZE = 32\n",
    "    SAMPLE_TO = 16\n",
    "    GRID_SIZE = 8\n",
    "    features = ['u']\n",
    "    labels = ['tn']\n",
    "\n",
    "    sampler = Equidistance3dSampling(CHECKPOINT_DATA_SIZE, SAMPLE_TO)\n",
    "\n",
    "    experiment_name = \"CNN experiment\"\n",
    "\n",
    "    estimator = Spacial3dEncoderNetworkEstimator(\n",
    "        config=Spacial3dEncoderNetworkEstimatorConfiguration(n_epochs=1, grid_dim=GRID_SIZE)\n",
    "    )\n",
    "\n",
    "    tracking_backend = FakeExperimentBackend(experiment_name)\n",
    "    # tracking_backend = MlFlowExperimentBackend(experiment_name, MLFLOW_BACKEND_HOST, MLFLOW_BACKEND_PORT)\n",
    "\n",
    "    x, y = JHTDB128Dataset(path=dataset_root_dir,\n",
    "                           features=features,\n",
    "                           labels=labels,\n",
    "                           checkpoints=[0, 4, 10],\n",
    "                           grid_size=GRID_SIZE,\n",
    "                           checkpoint_data_size=CHECKPOINT_DATA_SIZE,\n",
    "                           sampler=sampler).load()\n",
    "\n",
    "    training_experiment = TrainingExperiment(name=experiment_name,\n",
    "                                             backend=tracking_backend,\n",
    "                                             model=estimator,\n",
    "                                             inputs=x, targets=y)\n",
    "    training_experiment.run()\n",
    "\n",
    "    x, y = JHTDB128Dataset(path=dataset_root_dir,\n",
    "                           features=features,\n",
    "                           labels=labels,\n",
    "                           checkpoints=[0],\n",
    "                           grid_size=GRID_SIZE,\n",
    "                           checkpoint_data_size=CHECKPOINT_DATA_SIZE,\n",
    "                           sampler=sampler).load()\n",
    "\n",
    "    evaluation_experiment = Evaluation3dExperiment(name=experiment_name,\n",
    "                                                   backend=tracking_backend,\n",
    "                                                   model=training_experiment.model,\n",
    "                                                   inputs=x, targets=y,\n",
    "                                                   n_output_channels=3,\n",
    "                                                   grid_size=GRID_SIZE,\n",
    "                                                   checkpoint_data_size=SAMPLE_TO)\n",
    "\n",
    "    evaluation_experiment.run()\n",
    "\n",
    "\n",
    "if __name__ == '__main__':\n",
    "    run()\n"
   ]
  }
 ],
 "metadata": {
  "kernelspec": {
   "display_name": "Python 3",
   "language": "python",
   "name": "python3"
  },
  "language_info": {
   "codemirror_mode": {
    "name": "ipython",
    "version": 3
   },
   "file_extension": ".py",
   "mimetype": "text/x-python",
   "name": "python",
   "nbconvert_exporter": "python",
   "pygments_lexer": "ipython3",
   "version": "3.7.3"
  }
 },
 "nbformat": 4,
 "nbformat_minor": 2
}
