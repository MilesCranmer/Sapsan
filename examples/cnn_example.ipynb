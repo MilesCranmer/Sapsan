{
 "cells": [
  {
   "cell_type": "code",
   "execution_count": 1,
   "metadata": {
    "pycharm": {
     "is_executing": false
    }
   },
   "outputs": [
    {
     "name": "stderr",
     "output_type": "stream",
     "text": [
      "/home/pkarpov/.conda/envs/torch/lib/python3.7/site-packages/pywt/_utils.py:6: DeprecationWarning: Using or importing the ABCs from 'collections' instead of from 'collections.abc' is deprecated, and in 3.8 it will stop working\n",
      "  from collections import Iterable\n",
      "/home/pkarpov/.conda/envs/torch/lib/python3.7/site-packages/catalyst/utils/registry.py:21: DeprecationWarning:\n",
      "\n",
      "Using or importing the ABCs from 'collections' instead of from 'collections.abc' is deprecated, and in 3.8 it will stop working\n",
      "\n",
      "/home/pkarpov/.conda/envs/torch/lib/python3.7/site-packages/wandb/wandb_config.py:1: DeprecationWarning:\n",
      "\n",
      "Using or importing the ABCs from 'collections' instead of from 'collections.abc' is deprecated, and in 3.8 it will stop working\n",
      "\n",
      "/home/pkarpov/.conda/envs/torch/lib/python3.7/site-packages/watchdog/utils/bricks.py:175: DeprecationWarning:\n",
      "\n",
      "Using or importing the ABCs from 'collections' instead of from 'collections.abc' is deprecated, and in 3.8 it will stop working\n",
      "\n"
     ]
    }
   ],
   "source": [
    "%matplotlib inline\n",
    "import os\n",
    "import sys\n",
    "\n",
    "#if you cloned from github, uncomment below!\n",
    "sys.path.append(\"../\")\n",
    "\n",
    "from sapsan.lib.backends.fake import FakeExperimentBackend\n",
    "from sapsan.lib.backends.mlflow import MlFlowExperimentBackend\n",
    "from sapsan.lib.data.jhtdb_dataset import JHTDB128Dataset\n",
    "from sapsan.lib.data import Equidistance3dSampling\n",
    "from sapsan.lib.estimator import Spacial3dEncoderNetworkEstimator, Spacial3dEncoderNetworkEstimatorConfiguration\n",
    "from sapsan.lib.experiments.evaluation_3d import Evaluation3dExperiment\n",
    "from sapsan.lib.experiments.training import TrainingExperiment"
   ]
  },
  {
   "cell_type": "code",
   "execution_count": 2,
   "metadata": {
    "pycharm": {
     "is_executing": false,
     "name": "#%%\n"
    }
   },
   "outputs": [],
   "source": [
    "#--- Experiment tracking backend ---\n",
    "\n",
    "os.environ[\"AWS_ACCESS_KEY_ID\"] = \"<AWS_ACCESS_KEY_ID>\"\n",
    "os.environ[\"AWS_SECRET_ACCESS_KEY\"] = \"<AWS_SECRET_ACCESS_KEY>\"\n",
    "\n",
    "experiment_name = \"CNN experiment\"\n",
    "\n",
    "#Fake (disable backend)\n",
    "tracking_backend = FakeExperimentBackend(experiment_name)\n",
    "\n",
    "#MLflow\n",
    "#launch mlflow with: mlflow ui --port=9000\n",
    "#uncomment tracking_backend to use mlflow\n",
    "\n",
    "MLFLOW_BACKEND_HOST = \"localhost\"\n",
    "MLFLOW_BACKEND_PORT = 9000\n",
    "\n",
    "#tracking_backend = MlFlowExperimentBackend(experiment_name, MLFLOW_BACKEND_HOST, MLFLOW_BACKEND_PORT)"
   ]
  },
  {
   "cell_type": "code",
   "execution_count": 3,
   "metadata": {
    "pycharm": {
     "is_executing": false,
     "name": "#%%\n"
    }
   },
   "outputs": [],
   "source": [
    "#--- Data setup ---\n",
    "#In the intereset of loading and training multiple timesteps\n",
    "#one can specify which checkpoints to use and where\n",
    "#they appear in the path via syntax: {checkpoint:format}\n",
    "#\n",
    "#Next, you need to specify which features to load; let's assume \n",
    "#        path = \"{feature}.h5\"\n",
    "#\n",
    "# 1) If in different files, then specify features directly\n",
    "#    Ex: features = ['velocity', 'denisty', 'pressure']\n",
    "# 2) If in the same, then duplicate the name in features\n",
    "#    and specify which labels to pull\n",
    "#    Ex: features = [\"data\", \"data\", \"data\"]\n",
    "#        feature_labels = ['velocity', 'density', 'pressure']\n",
    "\n",
    "path = \"data/t{checkpoint:1.0f}/{feature}_dim32_fm15.h5\"\n",
    "features = ['u']\n",
    "target = ['u']\n",
    "\n",
    "#Dimensionality of your data per axis\n",
    "CHECKPOINT_DATA_SIZE = 32\n",
    "\n",
    "#Reduce dimensionality of each axis to\n",
    "SAMPLE_TO = 16\n",
    "\n",
    "#Dimensionality of each axis in a batch\n",
    "GRID_SIZE = 8\n",
    "\n",
    "#Sampler to use for reduction\n",
    "sampler = Equidistance3dSampling(CHECKPOINT_DATA_SIZE, SAMPLE_TO)"
   ]
  },
  {
   "cell_type": "code",
   "execution_count": null,
   "metadata": {},
   "outputs": [
    {
     "data": {
      "application/javascript": [
       "IPython.notebook.save_checkpoint();"
      ],
      "text/plain": [
       "<IPython.core.display.Javascript object>"
      ]
     },
     "metadata": {},
     "output_type": "display_data"
    }
   ],
   "source": [
    "#--- Train the model ---\n",
    "#Machine Learning model to use\n",
    "estimator = Spacial3dEncoderNetworkEstimator(\n",
    "    config=Spacial3dEncoderNetworkEstimatorConfiguration(n_epochs=10, grid_dim=GRID_SIZE)\n",
    ")\n",
    "\n",
    "#Load the data\n",
    "x, y = JHTDB128Dataset(path=path,\n",
    "                       features=features,\n",
    "                       target=target,\n",
    "                       checkpoints=[0],\n",
    "                       grid_size=GRID_SIZE,\n",
    "                       checkpoint_data_size=CHECKPOINT_DATA_SIZE,\n",
    "                       sampler=sampler).load()\n",
    "\n",
    "#Set the experiment\n",
    "training_experiment = TrainingExperiment(name=experiment_name,\n",
    "                                         backend=tracking_backend,\n",
    "                                         model=estimator,\n",
    "                                         inputs=x, targets=y)\n",
    "#Train the model\n",
    "training_experiment.run()"
   ]
  },
  {
   "cell_type": "code",
   "execution_count": null,
   "metadata": {},
   "outputs": [],
   "source": [
    "#--- Test the model ---\n",
    "#Load the test data\n",
    "x, y = JHTDB128Dataset(path=path,\n",
    "                       features=features,\n",
    "                       target=target,\n",
    "                       checkpoints=[0],\n",
    "                       grid_size=GRID_SIZE,\n",
    "                       checkpoint_data_size=CHECKPOINT_DATA_SIZE,\n",
    "                       sampler=sampler).load()\n",
    "\n",
    "#Set the test experiment\n",
    "evaluation_experiment = Evaluation3dExperiment(name=experiment_name,\n",
    "                                               backend=tracking_backend,\n",
    "                                               model=training_experiment.model,\n",
    "                                               inputs=x, targets=y,\n",
    "                                               grid_size=GRID_SIZE,\n",
    "                                               checkpoint_data_size=SAMPLE_TO)\n",
    "\n",
    "#Test the model\n",
    "evaluation_experiment.run()"
   ]
  },
  {
   "cell_type": "code",
   "execution_count": null,
   "metadata": {},
   "outputs": [],
   "source": []
  }
 ],
 "metadata": {
  "kernelspec": {
   "display_name": "Python 3",
   "language": "python",
   "name": "python3"
  },
  "language_info": {
   "codemirror_mode": {
    "name": "ipython",
    "version": 3
   },
   "file_extension": ".py",
   "mimetype": "text/x-python",
   "name": "python",
   "nbconvert_exporter": "python",
   "pygments_lexer": "ipython3",
   "version": "3.7.3"
  },
  "pycharm": {
   "stem_cell": {
    "cell_type": "raw",
    "metadata": {
     "collapsed": false
    },
    "source": []
   }
  }
 },
 "nbformat": 4,
 "nbformat_minor": 2
}
