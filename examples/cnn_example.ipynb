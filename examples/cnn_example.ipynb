{
 "cells": [
  {
   "cell_type": "code",
   "execution_count": 5,
   "metadata": {
    "scrolled": false
   },
   "outputs": [
    {
     "name": "stderr",
     "output_type": "stream",
     "text": [
      "/home/pkarpov/.conda/envs/torch/lib/python3.7/site-packages/safitty/parser.py:13: DeprecationWarning: Using or importing the ABCs from 'collections' instead of from 'collections.abc' is deprecated since Python 3.3,and in 3.9 it will stop working\n",
      "  from collections import OrderedDict, Mapping\n",
      "/home/pkarpov/.conda/envs/torch/lib/python3.7/site-packages/catalyst/utils/registry.py:22: DeprecationWarning:\n",
      "\n",
      "Using or importing the ABCs from 'collections' instead of from 'collections.abc' is deprecated since Python 3.3,and in 3.9 it will stop working\n",
      "\n",
      "/home/pkarpov/.conda/envs/torch/lib/python3.7/site-packages/promise/promise_list.py:2: DeprecationWarning:\n",
      "\n",
      "Using or importing the ABCs from 'collections' instead of from 'collections.abc' is deprecated since Python 3.3,and in 3.9 it will stop working\n",
      "\n",
      "/home/pkarpov/.conda/envs/torch/lib/python3.7/site-packages/wandb/wandb_config.py:1: DeprecationWarning:\n",
      "\n",
      "Using or importing the ABCs from 'collections' instead of from 'collections.abc' is deprecated since Python 3.3,and in 3.9 it will stop working\n",
      "\n"
     ]
    }
   ],
   "source": [
    "%matplotlib inline\n",
    "import os\n",
    "import sys\n",
    "\n",
    "#uncomment if cloned from github!\n",
    "sys.path.append(\"../\")\n",
    "\n",
    "from sapsan.lib.backends.fake import FakeBackend\n",
    "from sapsan.lib.backends.mlflow import MLflowBackend\n",
    "from sapsan.lib.data.hdf5_dataset import HDF5Dataset\n",
    "from sapsan.lib.data import EquidistanceSampling\n",
    "from sapsan.lib.estimator import CNN3d, CNN3dConfig\n",
    "from sapsan.lib.experiments.evaluate_3d import Evaluate3d\n",
    "from sapsan.lib.experiments.train import Train"
   ]
  },
  {
   "cell_type": "code",
   "execution_count": 6,
   "metadata": {
    "pycharm": {
     "is_executing": false,
     "name": "#%%\n"
    }
   },
   "outputs": [],
   "source": [
    "#--- Experiment tracking backend ---\n",
    "experiment_name = \"CNN experiment\"\n",
    "\n",
    "#Fake (disable backend)\n",
    "tracking_backend = FakeBackend(experiment_name)\n",
    "\n",
    "#MLflow\n",
    "#launch mlflow with: mlflow ui --port=9000\n",
    "#uncomment tracking_backend to use mlflow\n",
    "\n",
    "MLFLOW_HOST = \"localhost\"\n",
    "MLFLOW_PORT = 9000\n",
    "\n",
    "#tracking_backend = MLflowBackend(experiment_name, MLFLOW_HOST, MLFLOW_PORT)"
   ]
  },
  {
   "cell_type": "code",
   "execution_count": 7,
   "metadata": {
    "pycharm": {
     "is_executing": false,
     "name": "#%%\n"
    }
   },
   "outputs": [],
   "source": [
    "#--- Data setup ---\n",
    "#In the intereset of loading and training multiple timesteps\n",
    "#one can specify which checkpoints to use and where\n",
    "#they appear in the path via syntax: {checkpoint:format}\n",
    "#\n",
    "#Next, you need to specify which features to load; let's assume \n",
    "#        path = \"{feature}.h5\"\n",
    "#\n",
    "# 1) If in different files, then specify features directly;\n",
    "#    The default HDF5 label will be the last label in the file\n",
    "#    Ex: features = ['velocity', 'denisty', 'pressure']\n",
    "# 2) If in the same, then duplicate the name in features\n",
    "#    and specify which labels to pull\n",
    "#    Ex: features = [\"data\", \"data\", \"data\"]\n",
    "#        feature_labels = ['velocity', 'density', 'pressure']\n",
    "\n",
    "path = \"data/t{checkpoint:1.0f}/{feature}_dim32_fm15.h5\"\n",
    "features = ['u']\n",
    "target = ['u']\n",
    "\n",
    "#dimensionality of the data\n",
    "AXIS = 3\n",
    "\n",
    "#Dimensionality of your data per axis\n",
    "CHECKPOINT_DATA_SIZE = 32\n",
    "\n",
    "#Reduce dimensionality of each axis to\n",
    "SAMPLE_TO = 16\n",
    "\n",
    "#Dimensionality of each axis in a batch\n",
    "GRID_SIZE = 8\n",
    "\n",
    "#Sampler to use for reduction\n",
    "sampler = EquidistanceSampling(CHECKPOINT_DATA_SIZE, SAMPLE_TO, AXIS)"
   ]
  },
  {
   "cell_type": "code",
   "execution_count": 8,
   "metadata": {},
   "outputs": [
    {
     "name": "stdout",
     "output_type": "stream",
     "text": [
      "Loading 'u00000' from file 'data/t0/u_dim32_fm15.h5'\n",
      "Loading 'u00000' from file 'data/t0/u_dim32_fm15.h5'\n"
     ]
    },
    {
     "data": {
      "application/javascript": [
       "IPython.notebook.save_checkpoint();"
      ],
      "text/plain": [
       "<IPython.core.display.Javascript object>"
      ]
     },
     "metadata": {},
     "output_type": "display_data"
    },
    {
     "data": {
      "application/javascript": [
       "IPython.notebook.save_checkpoint();"
      ],
      "text/plain": [
       "<IPython.core.display.Javascript object>"
      ]
     },
     "metadata": {},
     "output_type": "display_data"
    },
    {
     "data": {
      "application/javascript": [
       "IPython.notebook.save_checkpoint();"
      ],
      "text/plain": [
       "<IPython.core.display.Javascript object>"
      ]
     },
     "metadata": {},
     "output_type": "display_data"
    },
    {
     "data": {
      "application/javascript": [
       "IPython.notebook.save_checkpoint();"
      ],
      "text/plain": [
       "<IPython.core.display.Javascript object>"
      ]
     },
     "metadata": {},
     "output_type": "display_data"
    },
    {
     "data": {
      "application/javascript": [
       "IPython.notebook.save_checkpoint();"
      ],
      "text/plain": [
       "<IPython.core.display.Javascript object>"
      ]
     },
     "metadata": {},
     "output_type": "display_data"
    },
    {
     "data": {
      "application/javascript": [
       "IPython.notebook.save_checkpoint();"
      ],
      "text/plain": [
       "<IPython.core.display.Javascript object>"
      ]
     },
     "metadata": {},
     "output_type": "display_data"
    },
    {
     "name": "stdout",
     "output_type": "stream",
     "text": [
      "[2020-05-20 14:29:50,200] \n",
      "1/1 * Epoch 1 (train): _base/lr=0.0010 | _base/momentum=0.9000 | _timers/_fps=13.2203 | _timers/batch_time=0.3026 | _timers/data_time=0.0748 | _timers/model_time=0.2275 | loss=0.0111\n",
      "1/1 * Epoch 1 (valid): _base/lr=0.0010 | _base/momentum=0.9000 | _timers/_fps=20.5439 | _timers/batch_time=0.1947 | _timers/data_time=0.0756 | _timers/model_time=0.1188 | loss=0.0111\n",
      "Top best models:\n",
      "logs/checkpoints/train.1.pth\t0.0111\n"
     ]
    },
    {
     "data": {
      "text/plain": [
       "{'runtime': 6.7534401416778564}"
      ]
     },
     "execution_count": 8,
     "metadata": {},
     "output_type": "execute_result"
    }
   ],
   "source": [
    "#--- Train the model ---\n",
    "#Machine Learning model to use\n",
    "\n",
    "#Configuration of the model parameters:\n",
    "#    n_epochs = number of epochs (iterations)\n",
    "#    grid_dim = size of the batch\n",
    "#    patience = number of epochs to run beyond convergence\n",
    "#    min_delta = loss based convergence cut-off\n",
    "estimator = CNN3d(\n",
    "    config=CNN3dConfig(n_epochs=1, grid_dim=GRID_SIZE, patience=10, min_delta=1e-5)\n",
    ")\n",
    "\n",
    "#Load the data\n",
    "x, y = HDF5Dataset(path=path,\n",
    "                   features=features,\n",
    "                   target=target,\n",
    "                   checkpoints=[0],\n",
    "                   grid_size=GRID_SIZE,\n",
    "                   checkpoint_data_size=CHECKPOINT_DATA_SIZE,\n",
    "                   sampler=sampler).load()\n",
    "\n",
    "#Set the experiment\n",
    "training_experiment = Train(name=experiment_name,\n",
    "                             backend=tracking_backend,\n",
    "                             model=estimator,\n",
    "                             inputs=x, targets=y)\n",
    "#Train the model\n",
    "training_experiment.run()"
   ]
  },
  {
   "cell_type": "code",
   "execution_count": 9,
   "metadata": {},
   "outputs": [
    {
     "name": "stdout",
     "output_type": "stream",
     "text": [
      "Loading 'u00000' from file 'data/t0/u_dim32_fm15.h5'\n",
      "Loading 'u00000' from file 'data/t0/u_dim32_fm15.h5'\n"
     ]
    },
    {
     "name": "stderr",
     "output_type": "stream",
     "text": [
      "WARNING:root:could not broadcast input array from shape (8,1536) into shape (8)\n",
      "WARNING:root:Feature was not provided. First one will be used\n",
      "WARNING:root:Slice is not selected first one will be used\n",
      "WARNING:root:Feature was not provided. First one will be used\n",
      "WARNING:root:Slice is not selected first one will be used\n"
     ]
    },
    {
     "data": {
      "image/png": "[encoded data removed]",
      "text/plain": [
       "<Figure size 432x432 with 1 Axes>"
      ]
     },
     "metadata": {
      "needs_background": "dark"
     },
     "output_type": "display_data"
    },
    {
     "data": {
      "text/plain": [
       "<Figure size 432x432 with 0 Axes>"
      ]
     },
     "metadata": {},
     "output_type": "display_data"
    },
    {
     "data": {
      "image/png": "[encoded data removed]",
      "text/plain": [
       "<Figure size 1152x432 with 4 Axes>"
      ]
     },
     "metadata": {
      "needs_background": "dark"
     },
     "output_type": "display_data"
    },
    {
     "data": {
      "text/plain": [
       "{'runtime': 1.7237024307250977}"
      ]
     },
     "execution_count": 9,
     "metadata": {},
     "output_type": "execute_result"
    }
   ],
   "source": [
    "#--- Test the model ---\n",
    "#Load the test data\n",
    "x, y = HDF5Dataset(path=path,\n",
    "                   features=features,\n",
    "                   target=target,\n",
    "                   checkpoints=[0],\n",
    "                   grid_size=GRID_SIZE,\n",
    "                   checkpoint_data_size=CHECKPOINT_DATA_SIZE,\n",
    "                   sampler=sampler).load()\n",
    "\n",
    "#Set the test experiment\n",
    "evaluation_experiment = Evaluate3d(name=experiment_name,\n",
    "                                           backend=tracking_backend,\n",
    "                                           model=training_experiment.model,\n",
    "                                           inputs=x, targets=y,\n",
    "                                           grid_size=GRID_SIZE,\n",
    "                                           checkpoint_data_size=SAMPLE_TO)\n",
    "\n",
    "#Test the model\n",
    "evaluation_experiment.run()"
   ]
  }
 ],
 "metadata": {
  "kernelspec": {
   "display_name": "Python 3",
   "language": "python",
   "name": "python3"
  },
  "language_info": {
   "codemirror_mode": {
    "name": "ipython",
    "version": 3
   },
   "file_extension": ".py",
   "mimetype": "text/x-python",
   "name": "python",
   "nbconvert_exporter": "python",
   "pygments_lexer": "ipython3",
   "version": "3.7.7"
  },
  "pycharm": {
   "stem_cell": {
    "cell_type": "raw",
    "metadata": {
     "collapsed": false
    },
    "source": []
   }
  }
 },
 "nbformat": 4,
 "nbformat_minor": 2
}
