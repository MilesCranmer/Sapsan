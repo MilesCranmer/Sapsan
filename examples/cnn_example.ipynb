{
 "cells": [
  {
   "cell_type": "code",
   "execution_count": 6,
   "metadata": {},
   "outputs": [],
   "source": [
    "%matplotlib inline\n",
    "import os\n",
    "import sys\n",
    "\n",
    "#uncomment if cloned from github!\n",
    "sys.path.append(\"../\")\n",
    "\n",
    "from sapsan.lib.backends.fake import FakeExperimentBackend\n",
    "from sapsan.lib.backends.mlflow import MlFlowExperimentBackend\n",
    "from sapsan.lib.data.jhtdb_dataset import JHTDB128Dataset\n",
    "from sapsan.lib.data import Equidistance3dSampling\n",
    "from sapsan.lib.estimator import Spacial3dEncoderNetworkEstimator, Spacial3dEncoderNetworkEstimatorConfiguration\n",
    "from sapsan.lib.experiments.evaluation_3d import Evaluation3dExperiment\n",
    "from sapsan.lib.experiments.training import TrainingExperiment"
   ]
  },
  {
   "cell_type": "code",
   "execution_count": 7,
   "metadata": {
    "pycharm": {
     "is_executing": false,
     "name": "#%%\n"
    }
   },
   "outputs": [],
   "source": [
    "#--- Experiment tracking backend ---\n",
    "\n",
    "os.environ[\"AWS_ACCESS_KEY_ID\"] = \"<AWS_ACCESS_KEY_ID>\"\n",
    "os.environ[\"AWS_SECRET_ACCESS_KEY\"] = \"<AWS_SECRET_ACCESS_KEY>\"\n",
    "\n",
    "experiment_name = \"CNN experiment\"\n",
    "\n",
    "#Fake (disable backend)\n",
    "tracking_backend = FakeExperimentBackend(experiment_name)\n",
    "\n",
    "#MLflow\n",
    "#launch mlflow with: mlflow ui --port=9000\n",
    "#uncomment tracking_backend to use mlflow\n",
    "\n",
    "MLFLOW_BACKEND_HOST = \"localhost\"\n",
    "MLFLOW_BACKEND_PORT = 9000\n",
    "\n",
    "#tracking_backend = MlFlowExperimentBackend(experiment_name, MLFLOW_BACKEND_HOST, MLFLOW_BACKEND_PORT)"
   ]
  },
  {
   "cell_type": "code",
   "execution_count": 8,
   "metadata": {
    "pycharm": {
     "is_executing": false,
     "name": "#%%\n"
    }
   },
   "outputs": [],
   "source": [
    "#--- Data setup ---\n",
    "#In the intereset of loading and training multiple timesteps\n",
    "#one can specify which checkpoints to use and where\n",
    "#they appear in the path via syntax: {checkpoint:format}\n",
    "#\n",
    "#Next, you need to specify which features to load; let's assume \n",
    "#        path = \"{feature}.h5\"\n",
    "#\n",
    "# 1) If in different files, then specify features directly\n",
    "#    Ex: features = ['velocity', 'denisty', 'pressure']\n",
    "# 2) If in the same, then duplicate the name in features\n",
    "#    and specify which labels to pull\n",
    "#    Ex: features = [\"data\", \"data\", \"data\"]\n",
    "#        feature_labels = ['velocity', 'density', 'pressure']\n",
    "\n",
    "path = \"data/t{checkpoint:1.0f}/{feature}_dim32_fm15.h5\"\n",
    "features = ['u']\n",
    "target = ['u']\n",
    "\n",
    "#Dimensionality of your data per axis\n",
    "CHECKPOINT_DATA_SIZE = 32\n",
    "\n",
    "#Reduce dimensionality of each axis to\n",
    "SAMPLE_TO = 16\n",
    "\n",
    "#Dimensionality of each axis in a batch\n",
    "GRID_SIZE = 8\n",
    "\n",
    "#Sampler to use for reduction\n",
    "sampler = Equidistance3dSampling(CHECKPOINT_DATA_SIZE, SAMPLE_TO)"
   ]
  },
  {
   "cell_type": "code",
   "execution_count": 13,
   "metadata": {},
   "outputs": [
    {
     "data": {
      "application/javascript": [
       "IPython.notebook.save_checkpoint();"
      ],
      "text/plain": [
       "<IPython.core.display.Javascript object>"
      ]
     },
     "metadata": {},
     "output_type": "display_data"
    },
    {
     "data": {
      "application/javascript": [
       "IPython.notebook.save_checkpoint();"
      ],
      "text/plain": [
       "<IPython.core.display.Javascript object>"
      ]
     },
     "metadata": {},
     "output_type": "display_data"
    },
    {
     "name": "stdout",
     "output_type": "stream",
     "text": [
      "[2020-05-05 14:22:17,685] \n",
      "0/1 * Epoch 0 (train): _base/lr=0.0010 | _base/momentum=0.9000 | _timers/_fps=43.1104 | _timers/batch_time=0.0928 | _timers/data_time=0.0686 | _timers/model_time=0.0241 | loss=0.0115\n",
      "0/1 * Epoch 0 (valid): _base/lr=0.0010 | _base/momentum=0.9000 | _timers/_fps=21.0067 | _timers/batch_time=0.1904 | _timers/data_time=0.1484 | _timers/model_time=0.0417 | loss=0.0103\n"
     ]
    },
    {
     "name": "stderr",
     "output_type": "stream",
     "text": [
      "INFO:metrics_logger:\n",
      "0/1 * Epoch 0 (train): _base/lr=0.0010 | _base/momentum=0.9000 | _timers/_fps=43.1104 | _timers/batch_time=0.0928 | _timers/data_time=0.0686 | _timers/model_time=0.0241 | loss=0.0115\n",
      "0/1 * Epoch 0 (valid): _base/lr=0.0010 | _base/momentum=0.9000 | _timers/_fps=21.0067 | _timers/batch_time=0.1904 | _timers/data_time=0.1484 | _timers/model_time=0.0417 | loss=0.0103\n"
     ]
    },
    {
     "name": "stdout",
     "output_type": "stream",
     "text": [
      "Top best models:\n",
      "logs/checkpoints//train.0.pth\t0.0103\n"
     ]
    },
    {
     "data": {
      "text/plain": [
       "{'runtime': 2.047971487045288}"
      ]
     },
     "execution_count": 13,
     "metadata": {},
     "output_type": "execute_result"
    }
   ],
   "source": [
    "#--- Train the model ---\n",
    "#Machine Learning model to use\n",
    "estimator = Spacial3dEncoderNetworkEstimator(\n",
    "    config=Spacial3dEncoderNetworkEstimatorConfiguration(n_epochs=1, grid_dim=GRID_SIZE)\n",
    ")\n",
    "\n",
    "#Load the data\n",
    "x, y = JHTDB128Dataset(path=path,\n",
    "                       features=features,\n",
    "                       target=target,\n",
    "                       checkpoints=[0],\n",
    "                       grid_size=GRID_SIZE,\n",
    "                       checkpoint_data_size=CHECKPOINT_DATA_SIZE,\n",
    "                       sampler=sampler).load()\n",
    "\n",
    "#Set the experiment\n",
    "training_experiment = TrainingExperiment(name=experiment_name,\n",
    "                                         backend=tracking_backend,\n",
    "                                         model=estimator,\n",
    "                                         inputs=x, targets=y)\n",
    "#Train the model\n",
    "training_experiment.run()"
   ]
  },
  {
   "cell_type": "code",
   "execution_count": 14,
   "metadata": {},
   "outputs": [
    {
     "name": "stderr",
     "output_type": "stream",
     "text": [
      "WARNING:root:could not broadcast input array from shape (8,1536) into shape (8)\n",
      "WARNING:root:Feature was not provided. First one will be used\n",
      "WARNING:root:Slice is not selected first one will be used\n",
      "WARNING:root:Feature was not provided. First one will be used\n",
      "WARNING:root:Slice is not selected first one will be used\n"
     ]
    },
    {
     "data": {
      "image/png": "[encoded data removed]",
      "text/plain": [
       "<Figure size 432x432 with 1 Axes>"
      ]
     },
     "metadata": {
      "needs_background": "light"
     },
     "output_type": "display_data"
    },
    {
     "data": {
      "text/plain": [
       "<Figure size 432x432 with 0 Axes>"
      ]
     },
     "metadata": {},
     "output_type": "display_data"
    },
    {
     "data": {
      "image/png": "[encoded data removed]",
      "text/plain": [
       "<Figure size 1152x432 with 4 Axes>"
      ]
     },
     "metadata": {
      "needs_background": "light"
     },
     "output_type": "display_data"
    },
    {
     "data": {
      "text/plain": [
       "{'runtime': 1.7958292961120605}"
      ]
     },
     "execution_count": 14,
     "metadata": {},
     "output_type": "execute_result"
    }
   ],
   "source": [
    "#--- Test the model ---\n",
    "#Load the test data\n",
    "x, y = JHTDB128Dataset(path=path,\n",
    "                       features=features,\n",
    "                       target=target,\n",
    "                       checkpoints=[0],\n",
    "                       grid_size=GRID_SIZE,\n",
    "                       checkpoint_data_size=CHECKPOINT_DATA_SIZE,\n",
    "                       sampler=sampler).load()\n",
    "\n",
    "#Set the test experiment\n",
    "evaluation_experiment = Evaluation3dExperiment(name=experiment_name,\n",
    "                                               backend=tracking_backend,\n",
    "                                               model=training_experiment.model,\n",
    "                                               inputs=x, targets=y,\n",
    "                                               grid_size=GRID_SIZE,\n",
    "                                               checkpoint_data_size=SAMPLE_TO)\n",
    "\n",
    "#Test the model\n",
    "evaluation_experiment.run()"
   ]
  }
 ],
 "metadata": {
  "kernelspec": {
   "display_name": "Python 3",
   "language": "python",
   "name": "python3"
  },
  "language_info": {
   "codemirror_mode": {
    "name": "ipython",
    "version": 3
   },
   "file_extension": ".py",
   "mimetype": "text/x-python",
   "name": "python",
   "nbconvert_exporter": "python",
   "pygments_lexer": "ipython3",
   "version": "3.7.3"
  },
  "pycharm": {
   "stem_cell": {
    "cell_type": "raw",
    "metadata": {
     "collapsed": false
    },
    "source": []
   }
  }
 },
 "nbformat": 4,
 "nbformat_minor": 2
}
