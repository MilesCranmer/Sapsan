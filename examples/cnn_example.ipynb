{
 "cells": [
  {
   "cell_type": "code",
   "execution_count": 2,
   "metadata": {
    "pycharm": {
     "is_executing": false,
     "name": "#%%\n"
    }
   },
   "outputs": [],
   "source": [
    "#--- Experiment tracking backend ---\n",
    "\n",
    "os.environ[\"AWS_ACCESS_KEY_ID\"] = \"<AWS_ACCESS_KEY_ID>\"\n",
    "os.environ[\"AWS_SECRET_ACCESS_KEY\"] = \"<AWS_SECRET_ACCESS_KEY>\"\n",
    "\n",
    "experiment_name = \"CNN experiment\"\n",
    "\n",
    "#Fake (disable backend)\n",
    "tracking_backend = FakeExperimentBackend(experiment_name)\n",
    "\n",
    "#MLflow\n",
    "#launch mlflow with: mlflow ui --port=9000\n",
    "#uncomment tracking_backend to use mlflow\n",
    "\n",
    "MLFLOW_BACKEND_HOST = \"localhost\"\n",
    "MLFLOW_BACKEND_PORT = 9000\n",
    "\n",
    "#tracking_backend = MlFlowExperimentBackend(experiment_name, MLFLOW_BACKEND_HOST, MLFLOW_BACKEND_PORT)"
   ]
  },
  {
   "cell_type": "code",
   "execution_count": 3,
   "metadata": {
    "pycharm": {
     "is_executing": false,
     "name": "#%%\n"
    }
   },
   "outputs": [],
   "source": [
    "#--- Data setup ---\n",
    "#In the intereset of loading and training multiple timesteps\n",
    "#one can specify which checkpoints to use and where\n",
    "#they appear in the path via syntax: {checkpoint:format}\n",
    "#\n",
    "#Next, you need to specify which features to load; let's assume \n",
    "#        path = \"{feature}.h5\"\n",
    "#\n",
    "# 1) If in different files, then specify features directly\n",
    "#    Ex: features = ['velocity', 'denisty', 'pressure']\n",
    "# 2) If in the same, then duplicate the name in features\n",
    "#    and specify which labels to pull\n",
    "#    Ex: features = [\"data\", \"data\", \"data\"]\n",
    "#        feature_labels = ['velocity', 'density', 'pressure']\n",
    "\n",
    "path = \"data/t{checkpoint:1.0f}/{feature}_dim32_fm15.h5\"\n",
    "features = ['u']\n",
    "target = ['u']\n",
    "\n",
    "#Dimensionality of your data per axis\n",
    "CHECKPOINT_DATA_SIZE = 32\n",
    "\n",
    "#Reduce dimensionality of each axis to\n",
    "SAMPLE_TO = 16\n",
    "\n",
    "#Dimensionality of each axis in a batch\n",
    "GRID_SIZE = 8\n",
    "\n",
    "#Sampler to use for reduction\n",
    "sampler = Equidistance3dSampling(CHECKPOINT_DATA_SIZE, SAMPLE_TO)"
   ]
  },
  {
   "cell_type": "code",
   "execution_count": 6,
   "metadata": {},
   "outputs": [
    {
     "data": {
      "application/javascript": [
       "IPython.notebook.save_checkpoint();"
      ],
      "text/plain": [
       "<IPython.core.display.Javascript object>"
      ]
     },
     "metadata": {},
     "output_type": "display_data"
    },
    {
     "data": {
      "application/javascript": [
       "IPython.notebook.save_checkpoint();"
      ],
      "text/plain": [
       "<IPython.core.display.Javascript object>"
      ]
     },
     "metadata": {},
     "output_type": "display_data"
    },
    {
     "name": "stdout",
     "output_type": "stream",
     "text": [
      "[2020-05-05 14:07:28,435] \n",
      "0/10 * Epoch 0 (train): _base/lr=0.0010 | _base/momentum=0.9000 | _timers/_fps=25.3707 | _timers/batch_time=0.1577 | _timers/data_time=0.0661 | _timers/model_time=0.0914 | loss=0.0110\n",
      "0/10 * Epoch 0 (valid): _base/lr=0.0010 | _base/momentum=0.9000 | _timers/_fps=24.0067 | _timers/batch_time=0.1666 | _timers/data_time=0.1377 | _timers/model_time=0.0287 | loss=0.0109\n"
     ]
    },
    {
     "name": "stderr",
     "output_type": "stream",
     "text": [
      "INFO:metrics_logger:\n",
      "0/10 * Epoch 0 (train): _base/lr=0.0010 | _base/momentum=0.9000 | _timers/_fps=25.3707 | _timers/batch_time=0.1577 | _timers/data_time=0.0661 | _timers/model_time=0.0914 | loss=0.0110\n",
      "0/10 * Epoch 0 (valid): _base/lr=0.0010 | _base/momentum=0.9000 | _timers/_fps=24.0067 | _timers/batch_time=0.1666 | _timers/data_time=0.1377 | _timers/model_time=0.0287 | loss=0.0109\n"
     ]
    },
    {
     "name": "stdout",
     "output_type": "stream",
     "text": [
      "[2020-05-05 14:07:29,082] \n",
      "1/10 * Epoch 1 (train): _base/lr=0.0010 | _base/momentum=0.9000 | _timers/_fps=36.4852 | _timers/batch_time=0.1096 | _timers/data_time=0.0883 | _timers/model_time=0.0211 | loss=0.0103\n",
      "1/10 * Epoch 1 (valid): _base/lr=0.0010 | _base/momentum=0.9000 | _timers/_fps=25.5733 | _timers/batch_time=0.1564 | _timers/data_time=0.1323 | _timers/model_time=0.0238 | loss=0.0106\n"
     ]
    },
    {
     "name": "stderr",
     "output_type": "stream",
     "text": [
      "INFO:metrics_logger:\n",
      "1/10 * Epoch 1 (train): _base/lr=0.0010 | _base/momentum=0.9000 | _timers/_fps=36.4852 | _timers/batch_time=0.1096 | _timers/data_time=0.0883 | _timers/model_time=0.0211 | loss=0.0103\n",
      "1/10 * Epoch 1 (valid): _base/lr=0.0010 | _base/momentum=0.9000 | _timers/_fps=25.5733 | _timers/batch_time=0.1564 | _timers/data_time=0.1323 | _timers/model_time=0.0238 | loss=0.0106\n"
     ]
    },
    {
     "name": "stdout",
     "output_type": "stream",
     "text": [
      "[2020-05-05 14:07:29,820] \n",
      "2/10 * Epoch 2 (train): _base/lr=0.0010 | _base/momentum=0.9000 | _timers/_fps=36.9825 | _timers/batch_time=0.1082 | _timers/data_time=0.0960 | _timers/model_time=0.0119 | loss=0.0097\n",
      "2/10 * Epoch 2 (valid): _base/lr=0.0010 | _base/momentum=0.9000 | _timers/_fps=23.4655 | _timers/batch_time=0.1705 | _timers/data_time=0.1386 | _timers/model_time=0.0315 | loss=0.0105\n"
     ]
    },
    {
     "name": "stderr",
     "output_type": "stream",
     "text": [
      "INFO:metrics_logger:\n",
      "2/10 * Epoch 2 (train): _base/lr=0.0010 | _base/momentum=0.9000 | _timers/_fps=36.9825 | _timers/batch_time=0.1082 | _timers/data_time=0.0960 | _timers/model_time=0.0119 | loss=0.0097\n",
      "2/10 * Epoch 2 (valid): _base/lr=0.0010 | _base/momentum=0.9000 | _timers/_fps=23.4655 | _timers/batch_time=0.1705 | _timers/data_time=0.1386 | _timers/model_time=0.0315 | loss=0.0105\n"
     ]
    },
    {
     "name": "stdout",
     "output_type": "stream",
     "text": [
      "[2020-05-05 14:07:30,472] \n",
      "3/10 * Epoch 3 (train): _base/lr=0.0010 | _base/momentum=0.9000 | _timers/_fps=36.0834 | _timers/batch_time=0.1109 | _timers/data_time=0.0892 | _timers/model_time=0.0215 | loss=0.0092\n",
      "3/10 * Epoch 3 (valid): _base/lr=0.0010 | _base/momentum=0.9000 | _timers/_fps=24.2738 | _timers/batch_time=0.1648 | _timers/data_time=0.1241 | _timers/model_time=0.0402 | loss=0.0104\n"
     ]
    },
    {
     "name": "stderr",
     "output_type": "stream",
     "text": [
      "INFO:metrics_logger:\n",
      "3/10 * Epoch 3 (train): _base/lr=0.0010 | _base/momentum=0.9000 | _timers/_fps=36.0834 | _timers/batch_time=0.1109 | _timers/data_time=0.0892 | _timers/model_time=0.0215 | loss=0.0092\n",
      "3/10 * Epoch 3 (valid): _base/lr=0.0010 | _base/momentum=0.9000 | _timers/_fps=24.2738 | _timers/batch_time=0.1648 | _timers/data_time=0.1241 | _timers/model_time=0.0402 | loss=0.0104\n"
     ]
    },
    {
     "name": "stdout",
     "output_type": "stream",
     "text": [
      "[2020-05-05 14:07:31,157] \n",
      "4/10 * Epoch 4 (train): _base/lr=0.0010 | _base/momentum=0.9000 | _timers/_fps=29.5458 | _timers/batch_time=0.1354 | _timers/data_time=0.0947 | _timers/model_time=0.0405 | loss=0.0088\n",
      "4/10 * Epoch 4 (valid): _base/lr=0.0010 | _base/momentum=0.9000 | _timers/_fps=18.6196 | _timers/batch_time=0.2148 | _timers/data_time=0.1638 | _timers/model_time=0.0507 | loss=0.0104\n"
     ]
    },
    {
     "name": "stderr",
     "output_type": "stream",
     "text": [
      "INFO:metrics_logger:\n",
      "4/10 * Epoch 4 (train): _base/lr=0.0010 | _base/momentum=0.9000 | _timers/_fps=29.5458 | _timers/batch_time=0.1354 | _timers/data_time=0.0947 | _timers/model_time=0.0405 | loss=0.0088\n",
      "4/10 * Epoch 4 (valid): _base/lr=0.0010 | _base/momentum=0.9000 | _timers/_fps=18.6196 | _timers/batch_time=0.2148 | _timers/data_time=0.1638 | _timers/model_time=0.0507 | loss=0.0104\n"
     ]
    },
    {
     "name": "stdout",
     "output_type": "stream",
     "text": [
      "[2020-05-05 14:07:31,850] \n",
      "5/10 * Epoch 5 (train): _base/lr=0.0010 | _base/momentum=0.9000 | _timers/_fps=36.0059 | _timers/batch_time=0.1111 | _timers/data_time=0.0846 | _timers/model_time=0.0263 | loss=0.0083\n",
      "5/10 * Epoch 5 (valid): _base/lr=0.0010 | _base/momentum=0.9000 | _timers/_fps=21.9903 | _timers/batch_time=0.1819 | _timers/data_time=0.1554 | _timers/model_time=0.0262 | loss=0.0106\n"
     ]
    },
    {
     "name": "stderr",
     "output_type": "stream",
     "text": [
      "INFO:metrics_logger:\n",
      "5/10 * Epoch 5 (train): _base/lr=0.0010 | _base/momentum=0.9000 | _timers/_fps=36.0059 | _timers/batch_time=0.1111 | _timers/data_time=0.0846 | _timers/model_time=0.0263 | loss=0.0083\n",
      "5/10 * Epoch 5 (valid): _base/lr=0.0010 | _base/momentum=0.9000 | _timers/_fps=21.9903 | _timers/batch_time=0.1819 | _timers/data_time=0.1554 | _timers/model_time=0.0262 | loss=0.0106\n"
     ]
    },
    {
     "name": "stdout",
     "output_type": "stream",
     "text": [
      "[2020-05-05 14:07:32,498] \n",
      "6/10 * Epoch 6 (train): _base/lr=0.0010 | _base/momentum=0.9000 | _timers/_fps=34.6693 | _timers/batch_time=0.1154 | _timers/data_time=0.0987 | _timers/model_time=0.0165 | loss=0.0080\n",
      "6/10 * Epoch 6 (valid): _base/lr=0.0010 | _base/momentum=0.9000 | _timers/_fps=20.9321 | _timers/batch_time=0.1911 | _timers/data_time=0.1485 | _timers/model_time=0.0423 | loss=0.0109\n"
     ]
    },
    {
     "name": "stderr",
     "output_type": "stream",
     "text": [
      "INFO:metrics_logger:\n",
      "6/10 * Epoch 6 (train): _base/lr=0.0010 | _base/momentum=0.9000 | _timers/_fps=34.6693 | _timers/batch_time=0.1154 | _timers/data_time=0.0987 | _timers/model_time=0.0165 | loss=0.0080\n",
      "6/10 * Epoch 6 (valid): _base/lr=0.0010 | _base/momentum=0.9000 | _timers/_fps=20.9321 | _timers/batch_time=0.1911 | _timers/data_time=0.1485 | _timers/model_time=0.0423 | loss=0.0109\n"
     ]
    },
    {
     "name": "stdout",
     "output_type": "stream",
     "text": [
      "[2020-05-05 14:07:33,276] \n",
      "7/10 * Epoch 7 (train): _base/lr=0.0010 | _base/momentum=0.9000 | _timers/_fps=30.3729 | _timers/batch_time=0.1317 | _timers/data_time=0.1081 | _timers/model_time=0.0233 | loss=0.0078\n",
      "7/10 * Epoch 7 (valid): _base/lr=0.0010 | _base/momentum=0.9000 | _timers/_fps=25.2599 | _timers/batch_time=0.1584 | _timers/data_time=0.1347 | _timers/model_time=0.0233 | loss=0.0112\n"
     ]
    },
    {
     "name": "stderr",
     "output_type": "stream",
     "text": [
      "INFO:metrics_logger:\n",
      "7/10 * Epoch 7 (train): _base/lr=0.0010 | _base/momentum=0.9000 | _timers/_fps=30.3729 | _timers/batch_time=0.1317 | _timers/data_time=0.1081 | _timers/model_time=0.0233 | loss=0.0078\n",
      "7/10 * Epoch 7 (valid): _base/lr=0.0010 | _base/momentum=0.9000 | _timers/_fps=25.2599 | _timers/batch_time=0.1584 | _timers/data_time=0.1347 | _timers/model_time=0.0233 | loss=0.0112\n"
     ]
    },
    {
     "name": "stdout",
     "output_type": "stream",
     "text": [
      "[2020-05-05 14:07:33,884] \n",
      "8/10 * Epoch 8 (train): _base/lr=0.0001 | _base/momentum=0.9000 | _timers/_fps=34.5685 | _timers/batch_time=0.1157 | _timers/data_time=0.0995 | _timers/model_time=0.0160 | loss=0.0076\n",
      "8/10 * Epoch 8 (valid): _base/lr=0.0001 | _base/momentum=0.9000 | _timers/_fps=21.5693 | _timers/batch_time=0.1854 | _timers/data_time=0.1508 | _timers/model_time=0.0342 | loss=0.0112\n"
     ]
    },
    {
     "name": "stderr",
     "output_type": "stream",
     "text": [
      "INFO:metrics_logger:\n",
      "8/10 * Epoch 8 (train): _base/lr=0.0001 | _base/momentum=0.9000 | _timers/_fps=34.5685 | _timers/batch_time=0.1157 | _timers/data_time=0.0995 | _timers/model_time=0.0160 | loss=0.0076\n",
      "8/10 * Epoch 8 (valid): _base/lr=0.0001 | _base/momentum=0.9000 | _timers/_fps=21.5693 | _timers/batch_time=0.1854 | _timers/data_time=0.1508 | _timers/model_time=0.0342 | loss=0.0112\n"
     ]
    },
    {
     "name": "stdout",
     "output_type": "stream",
     "text": [
      "[2020-05-05 14:07:34,607] \n",
      "9/10 * Epoch 9 (train): _base/lr=0.0001 | _base/momentum=0.9000 | _timers/_fps=24.2124 | _timers/batch_time=0.1652 | _timers/data_time=0.1340 | _timers/model_time=0.0310 | loss=0.0076\n",
      "9/10 * Epoch 9 (valid): _base/lr=0.0001 | _base/momentum=0.9000 | _timers/_fps=21.9973 | _timers/batch_time=0.1818 | _timers/data_time=0.1397 | _timers/model_time=0.0419 | loss=0.0112\n"
     ]
    },
    {
     "name": "stderr",
     "output_type": "stream",
     "text": [
      "INFO:metrics_logger:\n",
      "9/10 * Epoch 9 (train): _base/lr=0.0001 | _base/momentum=0.9000 | _timers/_fps=24.2124 | _timers/batch_time=0.1652 | _timers/data_time=0.1340 | _timers/model_time=0.0310 | loss=0.0076\n",
      "9/10 * Epoch 9 (valid): _base/lr=0.0001 | _base/momentum=0.9000 | _timers/_fps=21.9973 | _timers/batch_time=0.1818 | _timers/data_time=0.1397 | _timers/model_time=0.0419 | loss=0.0112\n"
     ]
    },
    {
     "name": "stdout",
     "output_type": "stream",
     "text": [
      "Top best models:\n",
      "logs/checkpoints//train.3.pth\t0.0104\n"
     ]
    },
    {
     "data": {
      "text/plain": [
       "{'runtime': 8.244544506072998}"
      ]
     },
     "execution_count": 6,
     "metadata": {},
     "output_type": "execute_result"
    }
   ],
   "source": [
    "#--- Train the model ---\n",
    "#Machine Learning model to use\n",
    "estimator = Spacial3dEncoderNetworkEstimator(\n",
    "    config=Spacial3dEncoderNetworkEstimatorConfiguration(n_epochs=10, grid_dim=GRID_SIZE)\n",
    ")\n",
    "\n",
    "#Load the data\n",
    "x, y = JHTDB128Dataset(path=path,\n",
    "                       features=features,\n",
    "                       target=target,\n",
    "                       checkpoints=[0],\n",
    "                       grid_size=GRID_SIZE,\n",
    "                       checkpoint_data_size=CHECKPOINT_DATA_SIZE,\n",
    "                       sampler=sampler).load()\n",
    "\n",
    "#Set the experiment\n",
    "training_experiment = TrainingExperiment(name=experiment_name,\n",
    "                                         backend=tracking_backend,\n",
    "                                         model=estimator,\n",
    "                                         inputs=x, targets=y)\n",
    "#Train the model\n",
    "training_experiment.run()"
   ]
  },
  {
   "cell_type": "code",
   "execution_count": 7,
   "metadata": {},
   "outputs": [
    {
     "name": "stderr",
     "output_type": "stream",
     "text": [
      "WARNING:root:could not broadcast input array from shape (8,1536) into shape (8)\n",
      "WARNING:root:Feature was not provided. First one will be used\n",
      "WARNING:root:Slice is not selected first one will be used\n",
      "WARNING:root:Feature was not provided. First one will be used\n",
      "WARNING:root:Slice is not selected first one will be used\n"
     ]
    },
    {
     "data": {
      "image/png": "[encoded data removed]",
      "text/plain": [
       "<Figure size 432x432 with 1 Axes>"
      ]
     },
     "metadata": {
      "needs_background": "dark"
     },
     "output_type": "display_data"
    },
    {
     "data": {
      "text/plain": [
       "<Figure size 432x432 with 0 Axes>"
      ]
     },
     "metadata": {},
     "output_type": "display_data"
    },
    {
     "data": {
      "image/png": "[encoded data removed]",
      "text/plain": [
       "<Figure size 1152x432 with 4 Axes>"
      ]
     },
     "metadata": {
      "needs_background": "dark"
     },
     "output_type": "display_data"
    },
    {
     "data": {
      "text/plain": [
       "{'runtime': 3.1524782180786133}"
      ]
     },
     "execution_count": 7,
     "metadata": {},
     "output_type": "execute_result"
    }
   ],
   "source": [
    "#--- Test the model ---\n",
    "#Load the test data\n",
    "x, y = JHTDB128Dataset(path=path,\n",
    "                       features=features,\n",
    "                       target=target,\n",
    "                       checkpoints=[0],\n",
    "                       grid_size=GRID_SIZE,\n",
    "                       checkpoint_data_size=CHECKPOINT_DATA_SIZE,\n",
    "                       sampler=sampler).load()\n",
    "\n",
    "#Set the test experiment\n",
    "evaluation_experiment = Evaluation3dExperiment(name=experiment_name,\n",
    "                                               backend=tracking_backend,\n",
    "                                               model=training_experiment.model,\n",
    "                                               inputs=x, targets=y,\n",
    "                                               grid_size=GRID_SIZE,\n",
    "                                               checkpoint_data_size=SAMPLE_TO)\n",
    "\n",
    "#Test the model\n",
    "evaluation_experiment.run()"
   ]
  }
 ],
 "metadata": {
  "kernelspec": {
   "display_name": "Python 3",
   "language": "python",
   "name": "python3"
  },
  "language_info": {
   "codemirror_mode": {
    "name": "ipython",
    "version": 3
   },
   "file_extension": ".py",
   "mimetype": "text/x-python",
   "name": "python",
   "nbconvert_exporter": "python",
   "pygments_lexer": "ipython3",
   "version": "3.7.3"
  },
  "pycharm": {
   "stem_cell": {
    "cell_type": "raw",
    "metadata": {
     "collapsed": false
    },
    "source": []
   }
  }
 },
 "nbformat": 4,
 "nbformat_minor": 2
}
